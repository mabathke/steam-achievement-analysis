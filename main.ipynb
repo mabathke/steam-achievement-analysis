{
 "cells": [
  {
   "cell_type": "markdown",
   "source": [
    "# Analysis of Steam achievements dataset"
   ],
   "metadata": {
    "collapsed": false,
    "pycharm": {
     "name": "#%% md\n"
    }
   }
  },
  {
   "cell_type": "markdown",
   "source": [
    "This Notebook is dedicated to the analysis of the dataset of the steam achievements provided from kaggle (https://www.kaggle.com/datasets/patrickgendotti/steam-achievementstatscom-rankings). The first step is to do a basic data descriptions after the data is imported."
   ],
   "metadata": {
    "collapsed": false,
    "pycharm": {
     "name": "#%% md\n"
    }
   }
  },
  {
   "cell_type": "markdown",
   "source": [
    "## Data Understanding\n",
    "### Data import\n",
    "General imports for data analysis and the actual dataset import. The dataFrame `achieve_df` represents the achievement progress of the top 200k steam users. The `country_df` represents the data aggregated to the countries."
   ],
   "metadata": {
    "collapsed": false,
    "pycharm": {
     "name": "#%% md\n"
    }
   }
  },
  {
   "cell_type": "code",
   "execution_count": 1,
   "outputs": [],
   "source": [
    "import datetime\n",
    "\n",
    "import matplotlib.pyplot as plt\n",
    "import pandas as pd\n",
    "from dateutil.parser import parse\n",
    "import seaborn as sns\n",
    "import numpy as np"
   ],
   "metadata": {
    "collapsed": false,
    "pycharm": {
     "name": "#%%\n"
    }
   }
  },
  {
   "cell_type": "code",
   "execution_count": 2,
   "outputs": [
    {
     "name": "stderr",
     "output_type": "stream",
     "text": [
      "C:\\Users\\Marvin Bathke\\anaconda3\\lib\\site-packages\\IPython\\core\\interactiveshell.py:3444: DtypeWarning: Columns (2) have mixed types.Specify dtype option on import or set low_memory=False.\n",
      "  exec(code_obj, self.user_global_ns, self.user_ns)\n"
     ]
    }
   ],
   "source": [
    "achieve_df = pd.read_csv(\"amended_first_200k_players.csv\")\n",
    "country_df = pd.read_csv(\"country_data.csv\")"
   ],
   "metadata": {
    "collapsed": false,
    "pycharm": {
     "name": "#%%\n"
    }
   }
  },
  {
   "cell_type": "markdown",
   "source": [
    "### Description of the Player dataset"
   ],
   "metadata": {
    "collapsed": false,
    "pycharm": {
     "name": "#%% md\n"
    }
   }
  },
  {
   "cell_type": "markdown",
   "source": [
    "Let's start with the description of the `achieve_df`. This df ranks the first approx. 200k by their achievements. What information we get is described in the next cells by looking at the different columns."
   ],
   "metadata": {
    "collapsed": false,
    "pycharm": {
     "name": "#%% md\n"
    }
   }
  },
  {
   "cell_type": "code",
   "execution_count": 3,
   "outputs": [
    {
     "data": {
      "text/plain": "        Unnamed: 0    Rank          Player Id         Player Name  \\\n0                0       1       The Stranger        The Stranger   \n1                1       2              lylat               lylat   \n2                2       3             hannez              hannez   \n3                3       4          DDtective           DDtective   \n4                4       5             Skaery              Skaery   \n...            ...     ...                ...                 ...   \n200005      199975  200006  76561198085421589      Brandenburg800   \n200006      199976  200007  76561198403437459            bounce01   \n200007      199977  200008  76561198015047677               awake   \n200008      199978  200009  76561198832353988  depressed fearless   \n200009      199979  200010  76561198071456822               Qinba   \n\n                                        Best achievements     Points       #  \\\n0       Blessing of the Flame  Requiescat  Memory Awak...  132759.30  153732   \n1       Death from Above  Apex Predator  Waste Not, Wa...  119588.95  141645   \n2       Legendary Heckler  Legendary Storm  Legendary ...   96014.25   98255   \n3       Escaping Outlands  A Duneman's Promise  Elite ...   89515.41  101757   \n4       World of Easy Goo  World of Okay Goo  World of...   88175.83   95676   \n...                                                   ...        ...     ...   \n200005  ['1v1 Ranked (all I got was stomped and this l...     467.61     642   \n200006  ['Who Need A Mechanic? (Besiege – 1.92 points)...     467.61     857   \n200007  [\"I'm Flying! (Drake Hollow – 2.00 points)\", '...     467.61     908   \n200008  ['Welcome to Arid (Unturned – 2.15 points)', '...     467.60     767   \n200009  ['Introspection (Toki Tori 2+ – 1.91 points)',...     467.60     955   \n\n        Games  100%      All  Badges       XP Member since    Hours  \\\n0       16755  4493  21203.0    4910  3087192   04/15/2011  75591.8   \n1       18358  6034  28377.0     195   296822   06/03/2009  55960.7   \n2       13651  4008  23981.0    2009   792032   06/23/2010  33020.0   \n3       12070  3708  19821.0     196    60662   09/01/2005   9352.9   \n4       10338  2127  13092.0     645   198956   06/08/2004  89602.9   \n...       ...   ...      ...     ...      ...          ...      ...   \n200005    112     1    170.0      12     1852   03/03/2013   1544.3   \n200006    102     2    131.0       7      783   07/11/2017   2750.9   \n200007    190     1    256.0     125    31466   11/01/2009      0.0   \n200008     60     0     43.0       8     4946   04/25/2018   1512.8   \n200009   1008     2   1699.0      23     7826   09/12/2012   3365.2   \n\n                Last update  \n0       05/26/2022 11:41:05  \n1       05/26/2022 11:42:01  \n2       05/26/2022 11:40:54  \n3       07/22/2022 23:39:26  \n4       05/26/2022 11:38:46  \n...                     ...  \n200005  06/05/2022 19:40:30  \n200006  06/06/2022 20:56:55  \n200007  05/21/2022 23:19:50  \n200008  04/24/2022 10:35:30  \n200009  07/27/2022 08:07:47  \n\n[200010 rows x 15 columns]",
      "text/html": "<div>\n<style scoped>\n    .dataframe tbody tr th:only-of-type {\n        vertical-align: middle;\n    }\n\n    .dataframe tbody tr th {\n        vertical-align: top;\n    }\n\n    .dataframe thead th {\n        text-align: right;\n    }\n</style>\n<table border=\"1\" class=\"dataframe\">\n  <thead>\n    <tr style=\"text-align: right;\">\n      <th></th>\n      <th>Unnamed: 0</th>\n      <th>Rank</th>\n      <th>Player Id</th>\n      <th>Player Name</th>\n      <th>Best achievements</th>\n      <th>Points</th>\n      <th>#</th>\n      <th>Games</th>\n      <th>100%</th>\n      <th>All</th>\n      <th>Badges</th>\n      <th>XP</th>\n      <th>Member since</th>\n      <th>Hours</th>\n      <th>Last update</th>\n    </tr>\n  </thead>\n  <tbody>\n    <tr>\n      <th>0</th>\n      <td>0</td>\n      <td>1</td>\n      <td>The Stranger</td>\n      <td>The Stranger</td>\n      <td>Blessing of the Flame  Requiescat  Memory Awak...</td>\n      <td>132759.30</td>\n      <td>153732</td>\n      <td>16755</td>\n      <td>4493</td>\n      <td>21203.0</td>\n      <td>4910</td>\n      <td>3087192</td>\n      <td>04/15/2011</td>\n      <td>75591.8</td>\n      <td>05/26/2022 11:41:05</td>\n    </tr>\n    <tr>\n      <th>1</th>\n      <td>1</td>\n      <td>2</td>\n      <td>lylat</td>\n      <td>lylat</td>\n      <td>Death from Above  Apex Predator  Waste Not, Wa...</td>\n      <td>119588.95</td>\n      <td>141645</td>\n      <td>18358</td>\n      <td>6034</td>\n      <td>28377.0</td>\n      <td>195</td>\n      <td>296822</td>\n      <td>06/03/2009</td>\n      <td>55960.7</td>\n      <td>05/26/2022 11:42:01</td>\n    </tr>\n    <tr>\n      <th>2</th>\n      <td>2</td>\n      <td>3</td>\n      <td>hannez</td>\n      <td>hannez</td>\n      <td>Legendary Heckler  Legendary Storm  Legendary ...</td>\n      <td>96014.25</td>\n      <td>98255</td>\n      <td>13651</td>\n      <td>4008</td>\n      <td>23981.0</td>\n      <td>2009</td>\n      <td>792032</td>\n      <td>06/23/2010</td>\n      <td>33020.0</td>\n      <td>05/26/2022 11:40:54</td>\n    </tr>\n    <tr>\n      <th>3</th>\n      <td>3</td>\n      <td>4</td>\n      <td>DDtective</td>\n      <td>DDtective</td>\n      <td>Escaping Outlands  A Duneman's Promise  Elite ...</td>\n      <td>89515.41</td>\n      <td>101757</td>\n      <td>12070</td>\n      <td>3708</td>\n      <td>19821.0</td>\n      <td>196</td>\n      <td>60662</td>\n      <td>09/01/2005</td>\n      <td>9352.9</td>\n      <td>07/22/2022 23:39:26</td>\n    </tr>\n    <tr>\n      <th>4</th>\n      <td>4</td>\n      <td>5</td>\n      <td>Skaery</td>\n      <td>Skaery</td>\n      <td>World of Easy Goo  World of Okay Goo  World of...</td>\n      <td>88175.83</td>\n      <td>95676</td>\n      <td>10338</td>\n      <td>2127</td>\n      <td>13092.0</td>\n      <td>645</td>\n      <td>198956</td>\n      <td>06/08/2004</td>\n      <td>89602.9</td>\n      <td>05/26/2022 11:38:46</td>\n    </tr>\n    <tr>\n      <th>...</th>\n      <td>...</td>\n      <td>...</td>\n      <td>...</td>\n      <td>...</td>\n      <td>...</td>\n      <td>...</td>\n      <td>...</td>\n      <td>...</td>\n      <td>...</td>\n      <td>...</td>\n      <td>...</td>\n      <td>...</td>\n      <td>...</td>\n      <td>...</td>\n      <td>...</td>\n    </tr>\n    <tr>\n      <th>200005</th>\n      <td>199975</td>\n      <td>200006</td>\n      <td>76561198085421589</td>\n      <td>Brandenburg800</td>\n      <td>['1v1 Ranked (all I got was stomped and this l...</td>\n      <td>467.61</td>\n      <td>642</td>\n      <td>112</td>\n      <td>1</td>\n      <td>170.0</td>\n      <td>12</td>\n      <td>1852</td>\n      <td>03/03/2013</td>\n      <td>1544.3</td>\n      <td>06/05/2022 19:40:30</td>\n    </tr>\n    <tr>\n      <th>200006</th>\n      <td>199976</td>\n      <td>200007</td>\n      <td>76561198403437459</td>\n      <td>bounce01</td>\n      <td>['Who Need A Mechanic? (Besiege – 1.92 points)...</td>\n      <td>467.61</td>\n      <td>857</td>\n      <td>102</td>\n      <td>2</td>\n      <td>131.0</td>\n      <td>7</td>\n      <td>783</td>\n      <td>07/11/2017</td>\n      <td>2750.9</td>\n      <td>06/06/2022 20:56:55</td>\n    </tr>\n    <tr>\n      <th>200007</th>\n      <td>199977</td>\n      <td>200008</td>\n      <td>76561198015047677</td>\n      <td>awake</td>\n      <td>[\"I'm Flying! (Drake Hollow – 2.00 points)\", '...</td>\n      <td>467.61</td>\n      <td>908</td>\n      <td>190</td>\n      <td>1</td>\n      <td>256.0</td>\n      <td>125</td>\n      <td>31466</td>\n      <td>11/01/2009</td>\n      <td>0.0</td>\n      <td>05/21/2022 23:19:50</td>\n    </tr>\n    <tr>\n      <th>200008</th>\n      <td>199978</td>\n      <td>200009</td>\n      <td>76561198832353988</td>\n      <td>depressed fearless</td>\n      <td>['Welcome to Arid (Unturned – 2.15 points)', '...</td>\n      <td>467.60</td>\n      <td>767</td>\n      <td>60</td>\n      <td>0</td>\n      <td>43.0</td>\n      <td>8</td>\n      <td>4946</td>\n      <td>04/25/2018</td>\n      <td>1512.8</td>\n      <td>04/24/2022 10:35:30</td>\n    </tr>\n    <tr>\n      <th>200009</th>\n      <td>199979</td>\n      <td>200010</td>\n      <td>76561198071456822</td>\n      <td>Qinba</td>\n      <td>['Introspection (Toki Tori 2+ – 1.91 points)',...</td>\n      <td>467.60</td>\n      <td>955</td>\n      <td>1008</td>\n      <td>2</td>\n      <td>1699.0</td>\n      <td>23</td>\n      <td>7826</td>\n      <td>09/12/2012</td>\n      <td>3365.2</td>\n      <td>07/27/2022 08:07:47</td>\n    </tr>\n  </tbody>\n</table>\n<p>200010 rows × 15 columns</p>\n</div>"
     },
     "execution_count": 3,
     "metadata": {},
     "output_type": "execute_result"
    }
   ],
   "source": [
    "achieve_df"
   ],
   "metadata": {
    "collapsed": false,
    "pycharm": {
     "name": "#%%\n"
    }
   }
  },
  {
   "cell_type": "markdown",
   "source": [
    "As shown in the output above, the df has 15 columns which can be described as followed:\n",
    "- **Unnamed: 0**: Probably an indexing column. Kinda confusing since it resets  to 0 after 29 and then indexes again. After looking at the git repo the first 30 are the top 30 displayed on the website the data is scrapped from. There is even a TODO in the data scrapping notebook to fix the formatting of the columns of the added top 30. This also explains further issues with these entries.\n",
    "- **Rank**: The ranking order of the player. The player is most likely ranked after the `Points` column.\n",
    "- **Player Id**: The Unique ID (Steam ID) of the players. The ID can be set by the player himself or is a 17-digit number in most cases.\n",
    "- **Player Name**: Individual Player name.\n",
    "- **Best achievements**: This list generally represents the best achievements gained. Usually an array for each player that holds the best achievements in regard to how many points were gained through the achievement. The entries before the reset in column `Unnamed: 0` have only returns a String. It looks like the array here is converted to a string already. It also has no points. If a profile is private the row contains the entry *private profile*.\n",
    "- **Points**: The Points represent the points gained through getting an achievement. Based on the `Best achievements` column, each achievement as individual points. This could be based on the difficulty of the achievements.\n",
    "- **#**: There is no information given to the column. My best guess is that this represents the amount of achievements gained by each player. Still, this could be anything else. After looking at the profiles on the achievementstats.com website. It cleared up, that this is indeed the amount of achievements gained.\n",
    "- **Games**: The amount of games owned by the player.\n",
    "- **100%**: The amount of games that are completed to a 100%. This usually means that every achievement is received.\n",
    "- **All**: I am guessing that this represents the amount of games + the DLC and other extensions for games.\n",
    "- **Badges**: The amount of badges earned by the player.\n",
    "- **XP**: Total amount of Steam XP gained.\n",
    "- **Member since**: The creation date of the steam account.\n",
    "- **Hours**: The hours the user played the games owned.\n",
    "- **Last Update**: Most likely the time the entry is last update on the website and by this how old the entry is."
   ],
   "metadata": {
    "collapsed": false,
    "pycharm": {
     "name": "#%% md\n"
    }
   }
  },
  {
   "cell_type": "markdown",
   "source": [
    "Next step is to look at different statistical values to get an overview about the data that is stored in the different columns. I like to use the `describe()` function for that, even though this aggregates all columns and some of them are useless to be aggregated, but still it is one of the easiest methods for calculating these values. Also, we look at the missing values and check for some multiple values."
   ],
   "metadata": {
    "collapsed": false,
    "pycharm": {
     "name": "#%% md\n"
    }
   }
  },
  {
   "cell_type": "code",
   "execution_count": 4,
   "outputs": [
    {
     "data": {
      "text/plain": "          Unnamed: 0           Rank         Points              #  \\\ncount  200010.000000  200010.000000  200010.000000  200010.000000   \nmean    99974.504500  100005.500000    1536.015505    2297.027194   \nstd     57738.050216   57738.058008    1806.114955    2095.428099   \nmin         0.000000       1.000000     467.600000     241.000000   \n25%     49972.250000   50003.250000     693.492500    1216.000000   \n50%     99974.500000  100005.500000    1049.210000    1737.000000   \n75%    149976.750000  150007.750000    1728.950000    2675.000000   \nmax    199979.000000  200010.000000  132759.300000  153732.000000   \n\n               Games           100%            All         Badges  \\\ncount  200010.000000  200010.000000  177328.000000  200010.000000   \nmean      538.229974      20.377451     742.743120      83.951577   \nstd       904.404437      60.082002    1403.381723     261.649782   \nmin         1.000000       0.000000       0.000000       0.000000   \n25%       161.000000       2.000000     194.000000      16.000000   \n50%       285.000000       6.000000     365.000000      33.000000   \n75%       551.000000      19.000000     733.000000      69.000000   \nmax     24848.000000    6034.000000   41003.000000   19496.000000   \n\n                 XP         Hours  \ncount  2.000100e+05  2.000100e+05  \nmean   3.268784e+04  5.562079e+03  \nstd    2.048665e+05  1.112689e+04  \nmin    0.000000e+00  0.000000e+00  \n25%    3.675250e+03  2.435500e+03  \n50%    9.963000e+03  4.232450e+03  \n75%    2.469975e+04  6.810925e+03  \nmax    3.668572e+07  1.173505e+06  ",
      "text/html": "<div>\n<style scoped>\n    .dataframe tbody tr th:only-of-type {\n        vertical-align: middle;\n    }\n\n    .dataframe tbody tr th {\n        vertical-align: top;\n    }\n\n    .dataframe thead th {\n        text-align: right;\n    }\n</style>\n<table border=\"1\" class=\"dataframe\">\n  <thead>\n    <tr style=\"text-align: right;\">\n      <th></th>\n      <th>Unnamed: 0</th>\n      <th>Rank</th>\n      <th>Points</th>\n      <th>#</th>\n      <th>Games</th>\n      <th>100%</th>\n      <th>All</th>\n      <th>Badges</th>\n      <th>XP</th>\n      <th>Hours</th>\n    </tr>\n  </thead>\n  <tbody>\n    <tr>\n      <th>count</th>\n      <td>200010.000000</td>\n      <td>200010.000000</td>\n      <td>200010.000000</td>\n      <td>200010.000000</td>\n      <td>200010.000000</td>\n      <td>200010.000000</td>\n      <td>177328.000000</td>\n      <td>200010.000000</td>\n      <td>2.000100e+05</td>\n      <td>2.000100e+05</td>\n    </tr>\n    <tr>\n      <th>mean</th>\n      <td>99974.504500</td>\n      <td>100005.500000</td>\n      <td>1536.015505</td>\n      <td>2297.027194</td>\n      <td>538.229974</td>\n      <td>20.377451</td>\n      <td>742.743120</td>\n      <td>83.951577</td>\n      <td>3.268784e+04</td>\n      <td>5.562079e+03</td>\n    </tr>\n    <tr>\n      <th>std</th>\n      <td>57738.050216</td>\n      <td>57738.058008</td>\n      <td>1806.114955</td>\n      <td>2095.428099</td>\n      <td>904.404437</td>\n      <td>60.082002</td>\n      <td>1403.381723</td>\n      <td>261.649782</td>\n      <td>2.048665e+05</td>\n      <td>1.112689e+04</td>\n    </tr>\n    <tr>\n      <th>min</th>\n      <td>0.000000</td>\n      <td>1.000000</td>\n      <td>467.600000</td>\n      <td>241.000000</td>\n      <td>1.000000</td>\n      <td>0.000000</td>\n      <td>0.000000</td>\n      <td>0.000000</td>\n      <td>0.000000e+00</td>\n      <td>0.000000e+00</td>\n    </tr>\n    <tr>\n      <th>25%</th>\n      <td>49972.250000</td>\n      <td>50003.250000</td>\n      <td>693.492500</td>\n      <td>1216.000000</td>\n      <td>161.000000</td>\n      <td>2.000000</td>\n      <td>194.000000</td>\n      <td>16.000000</td>\n      <td>3.675250e+03</td>\n      <td>2.435500e+03</td>\n    </tr>\n    <tr>\n      <th>50%</th>\n      <td>99974.500000</td>\n      <td>100005.500000</td>\n      <td>1049.210000</td>\n      <td>1737.000000</td>\n      <td>285.000000</td>\n      <td>6.000000</td>\n      <td>365.000000</td>\n      <td>33.000000</td>\n      <td>9.963000e+03</td>\n      <td>4.232450e+03</td>\n    </tr>\n    <tr>\n      <th>75%</th>\n      <td>149976.750000</td>\n      <td>150007.750000</td>\n      <td>1728.950000</td>\n      <td>2675.000000</td>\n      <td>551.000000</td>\n      <td>19.000000</td>\n      <td>733.000000</td>\n      <td>69.000000</td>\n      <td>2.469975e+04</td>\n      <td>6.810925e+03</td>\n    </tr>\n    <tr>\n      <th>max</th>\n      <td>199979.000000</td>\n      <td>200010.000000</td>\n      <td>132759.300000</td>\n      <td>153732.000000</td>\n      <td>24848.000000</td>\n      <td>6034.000000</td>\n      <td>41003.000000</td>\n      <td>19496.000000</td>\n      <td>3.668572e+07</td>\n      <td>1.173505e+06</td>\n    </tr>\n  </tbody>\n</table>\n</div>"
     },
     "execution_count": 4,
     "metadata": {},
     "output_type": "execute_result"
    }
   ],
   "source": [
    "achieve_df.describe()"
   ],
   "metadata": {
    "collapsed": false,
    "pycharm": {
     "name": "#%%\n"
    }
   }
  },
  {
   "cell_type": "markdown",
   "source": [
    "percentage of missing values"
   ],
   "metadata": {
    "collapsed": false,
    "pycharm": {
     "name": "#%% md\n"
    }
   }
  },
  {
   "cell_type": "code",
   "execution_count": 5,
   "outputs": [
    {
     "data": {
      "text/plain": "Unnamed: 0            0.00\nRank                  0.00\nPlayer Id             0.00\nPlayer Name           0.12\nBest achievements     0.00\nPoints                0.00\n#                     0.00\nGames                 0.00\n100%                  0.00\nAll                  11.34\nBadges                0.00\nXP                    0.00\nMember since          3.86\nHours                 0.00\nLast update           0.00\ndtype: float64"
     },
     "execution_count": 5,
     "metadata": {},
     "output_type": "execute_result"
    }
   ],
   "source": [
    "(achieve_df.isnull().sum() * 100 / len(achieve_df)).round(2)"
   ],
   "metadata": {
    "collapsed": false,
    "pycharm": {
     "name": "#%%\n"
    }
   }
  },
  {
   "cell_type": "code",
   "execution_count": 6,
   "outputs": [
    {
     "data": {
      "text/plain": "Empty DataFrame\nColumns: [count]\nIndex: []",
      "text/html": "<div>\n<style scoped>\n    .dataframe tbody tr th:only-of-type {\n        vertical-align: middle;\n    }\n\n    .dataframe tbody tr th {\n        vertical-align: top;\n    }\n\n    .dataframe thead th {\n        text-align: right;\n    }\n</style>\n<table border=\"1\" class=\"dataframe\">\n  <thead>\n    <tr style=\"text-align: right;\">\n      <th></th>\n      <th>count</th>\n    </tr>\n  </thead>\n  <tbody>\n  </tbody>\n</table>\n</div>"
     },
     "execution_count": 6,
     "metadata": {},
     "output_type": "execute_result"
    }
   ],
   "source": [
    "v = pd.DataFrame(achieve_df[\"Player Id\"].value_counts())\n",
    "v = v.rename(columns={v.columns[0]: \"count\"})\n",
    "v[v[\"count\"] >= 2]"
   ],
   "metadata": {
    "collapsed": false,
    "pycharm": {
     "name": "#%%\n"
    }
   }
  },
  {
   "cell_type": "markdown",
   "source": [
    "### Data Quality\n",
    "\n",
    "For evaluating the current quality, we can use the following:\n",
    "- **Correctness**: Since the data is indirectly fetched from Steam itself, we can assume that the data is correct.\n",
    "- **Completeness**: For evaluating that factor, I calculated the percentage of missing values for each column. We got 12 columns without null values. The `Player Name` column only misses 0.12% of its values, `Member Since` misses 3.86% of its values and the biggest missing factor has the `All` column with 11.34%. Overall the dataset is pretty complete.\n",
    "- **Redundancy**: Since we got no duplicate entries, if we use the `Player Id` as a key, we can say that the dataset is pretty much redundancy free."
   ],
   "metadata": {
    "collapsed": false,
    "pycharm": {
     "name": "#%% md\n"
    }
   }
  },
  {
   "cell_type": "markdown",
   "source": [
    "### Description of the Country dataset"
   ],
   "metadata": {
    "collapsed": false,
    "pycharm": {
     "name": "#%% md\n"
    }
   }
  },
  {
   "cell_type": "markdown",
   "source": [
    "After describing the `achieve_df` by looking at the columns and entries, we do the same thing with the `country_df`. This df aggregated the data from above df by sorting it on the countries. Still I would be careful with this sorting, since the country can be set by the player as well. This means, that the player might have set an incorrect country and this input can't be verified. In case of the analysis we just trust the dataset."
   ],
   "metadata": {
    "collapsed": false,
    "pycharm": {
     "name": "#%% md\n"
    }
   }
  },
  {
   "cell_type": "code",
   "execution_count": 7,
   "outputs": [
    {
     "data": {
      "text/plain": "     Rank                         Country  Players       Points     Number  \\\n0       0                         Unknown   135643  86532124.75  137664177   \n1       1                   United States    59698  52132889.98   84410455   \n2       2              Russian Federation    31058  24753943.31   37279292   \n3       3                         Germany    21750  18214362.15   28423805   \n4       4  United Kingdom (Great Britain)    16225  15635912.83   25101789   \n..    ...                             ...      ...          ...        ...   \n248   248                      Mauritania       10      3231.50       5663   \n249   249                   French Guiana        7      2587.67       5310   \n250   250                        Anguilla       14      2089.76       4749   \n251   251            Moldova, Republic of        2       617.02        752   \n252   252                      Yugoslavia        1         0.54          1   \n\n        Games   Badges          XP        Hours  \n0    31410891  5453964  2252121996  412471186.4  \n1    20379201  2569218   974895706  236137390.5  \n2     7247856  1657378   693424533  104656082.0  \n3     6658939  1381807   590848431   86523185.4  \n4     5780703   786975   294574732   68131144.6  \n..        ...      ...         ...          ...  \n248       788      144       43292      24574.4  \n249      1100       81       16709      20665.0  \n250       626      116       21427      18169.2  \n251       129      116       17486       1939.9  \n252         3        2         156         13.9  \n\n[253 rows x 9 columns]",
      "text/html": "<div>\n<style scoped>\n    .dataframe tbody tr th:only-of-type {\n        vertical-align: middle;\n    }\n\n    .dataframe tbody tr th {\n        vertical-align: top;\n    }\n\n    .dataframe thead th {\n        text-align: right;\n    }\n</style>\n<table border=\"1\" class=\"dataframe\">\n  <thead>\n    <tr style=\"text-align: right;\">\n      <th></th>\n      <th>Rank</th>\n      <th>Country</th>\n      <th>Players</th>\n      <th>Points</th>\n      <th>Number</th>\n      <th>Games</th>\n      <th>Badges</th>\n      <th>XP</th>\n      <th>Hours</th>\n    </tr>\n  </thead>\n  <tbody>\n    <tr>\n      <th>0</th>\n      <td>0</td>\n      <td>Unknown</td>\n      <td>135643</td>\n      <td>86532124.75</td>\n      <td>137664177</td>\n      <td>31410891</td>\n      <td>5453964</td>\n      <td>2252121996</td>\n      <td>412471186.4</td>\n    </tr>\n    <tr>\n      <th>1</th>\n      <td>1</td>\n      <td>United States</td>\n      <td>59698</td>\n      <td>52132889.98</td>\n      <td>84410455</td>\n      <td>20379201</td>\n      <td>2569218</td>\n      <td>974895706</td>\n      <td>236137390.5</td>\n    </tr>\n    <tr>\n      <th>2</th>\n      <td>2</td>\n      <td>Russian Federation</td>\n      <td>31058</td>\n      <td>24753943.31</td>\n      <td>37279292</td>\n      <td>7247856</td>\n      <td>1657378</td>\n      <td>693424533</td>\n      <td>104656082.0</td>\n    </tr>\n    <tr>\n      <th>3</th>\n      <td>3</td>\n      <td>Germany</td>\n      <td>21750</td>\n      <td>18214362.15</td>\n      <td>28423805</td>\n      <td>6658939</td>\n      <td>1381807</td>\n      <td>590848431</td>\n      <td>86523185.4</td>\n    </tr>\n    <tr>\n      <th>4</th>\n      <td>4</td>\n      <td>United Kingdom (Great Britain)</td>\n      <td>16225</td>\n      <td>15635912.83</td>\n      <td>25101789</td>\n      <td>5780703</td>\n      <td>786975</td>\n      <td>294574732</td>\n      <td>68131144.6</td>\n    </tr>\n    <tr>\n      <th>...</th>\n      <td>...</td>\n      <td>...</td>\n      <td>...</td>\n      <td>...</td>\n      <td>...</td>\n      <td>...</td>\n      <td>...</td>\n      <td>...</td>\n      <td>...</td>\n    </tr>\n    <tr>\n      <th>248</th>\n      <td>248</td>\n      <td>Mauritania</td>\n      <td>10</td>\n      <td>3231.50</td>\n      <td>5663</td>\n      <td>788</td>\n      <td>144</td>\n      <td>43292</td>\n      <td>24574.4</td>\n    </tr>\n    <tr>\n      <th>249</th>\n      <td>249</td>\n      <td>French Guiana</td>\n      <td>7</td>\n      <td>2587.67</td>\n      <td>5310</td>\n      <td>1100</td>\n      <td>81</td>\n      <td>16709</td>\n      <td>20665.0</td>\n    </tr>\n    <tr>\n      <th>250</th>\n      <td>250</td>\n      <td>Anguilla</td>\n      <td>14</td>\n      <td>2089.76</td>\n      <td>4749</td>\n      <td>626</td>\n      <td>116</td>\n      <td>21427</td>\n      <td>18169.2</td>\n    </tr>\n    <tr>\n      <th>251</th>\n      <td>251</td>\n      <td>Moldova, Republic of</td>\n      <td>2</td>\n      <td>617.02</td>\n      <td>752</td>\n      <td>129</td>\n      <td>116</td>\n      <td>17486</td>\n      <td>1939.9</td>\n    </tr>\n    <tr>\n      <th>252</th>\n      <td>252</td>\n      <td>Yugoslavia</td>\n      <td>1</td>\n      <td>0.54</td>\n      <td>1</td>\n      <td>3</td>\n      <td>2</td>\n      <td>156</td>\n      <td>13.9</td>\n    </tr>\n  </tbody>\n</table>\n<p>253 rows × 9 columns</p>\n</div>"
     },
     "execution_count": 7,
     "metadata": {},
     "output_type": "execute_result"
    }
   ],
   "source": [
    "country_df"
   ],
   "metadata": {
    "collapsed": false,
    "pycharm": {
     "name": "#%%\n"
    }
   }
  },
  {
   "cell_type": "markdown",
   "source": [
    "As you can see in the cell above, the df contains 9 columns, which can be described as follows:\n",
    "- **Rank**: The Rank of the country in regard to gained achievements.\n",
    "- **Country**: The Countries that the data is sorted to. There is an *Unkown* entry which aggregates the entries that can't be assigned to a country. This could be the case if the player didn't set a country, or it might be the case that the profile is private and thus the country is also set as private.\n",
    "- **Players**: Amount of players assigned to a country.\n",
    "- **Points**: Amount of points gained by the players of a country.\n",
    "- **Number**: Not really a specific name, but im guessing this is the amount of achievements gained by the players.\n",
    "- **Games**: Amount of games owned by the players of a country.\n",
    "- **Badges**: Amount of badges earned by the players of a country.\n",
    "- **XP**: Total amount of XP gained by the players of a country.\n",
    "- **Hours**: Amount of hours played by the players of a country."
   ],
   "metadata": {
    "collapsed": false,
    "pycharm": {
     "name": "#%% md\n"
    }
   }
  },
  {
   "cell_type": "markdown",
   "source": [
    "Next we again use the `describe()` method and calculate the missing value (in percent)."
   ],
   "metadata": {
    "collapsed": false,
    "pycharm": {
     "name": "#%% md\n"
    }
   }
  },
  {
   "cell_type": "code",
   "execution_count": 8,
   "outputs": [
    {
     "data": {
      "text/plain": "             Rank        Players        Points        Number         Games  \\\ncount  253.000000     253.000000  2.530000e+02  2.530000e+02  2.530000e+02   \nmean   126.000000    1836.355731  1.389446e+06  2.187685e+06  5.158577e+05   \nstd     73.179004    9777.432248  6.817831e+06  1.084677e+07  2.517633e+06   \nmin      0.000000       1.000000  5.400000e-01  1.000000e+00  3.000000e+00   \n25%     63.000000      41.000000  2.191154e+04  3.788700e+04  7.069000e+03   \n50%    126.000000     102.000000  5.478048e+04  9.217000e+04  2.060400e+04   \n75%    189.000000     502.000000  2.908862e+05  4.827490e+05  1.040740e+05   \nmax    252.000000  135643.000000  8.653212e+07  1.376642e+08  3.141089e+07   \n\n             Badges            XP         Hours  \ncount  2.530000e+02  2.530000e+02  2.530000e+02  \nmean   9.156419e+04  3.623566e+07  6.476821e+06  \nstd    4.171119e+05  1.700937e+08  3.185529e+07  \nmin    2.000000e+00  1.560000e+02  1.390000e+01  \n25%    1.427000e+03  4.423540e+05  1.314644e+05  \n50%    4.260000e+03  1.762010e+06  3.501921e+05  \n75%    2.629900e+04  1.021018e+07  1.667536e+06  \nmax    5.453964e+06  2.252122e+09  4.124712e+08  ",
      "text/html": "<div>\n<style scoped>\n    .dataframe tbody tr th:only-of-type {\n        vertical-align: middle;\n    }\n\n    .dataframe tbody tr th {\n        vertical-align: top;\n    }\n\n    .dataframe thead th {\n        text-align: right;\n    }\n</style>\n<table border=\"1\" class=\"dataframe\">\n  <thead>\n    <tr style=\"text-align: right;\">\n      <th></th>\n      <th>Rank</th>\n      <th>Players</th>\n      <th>Points</th>\n      <th>Number</th>\n      <th>Games</th>\n      <th>Badges</th>\n      <th>XP</th>\n      <th>Hours</th>\n    </tr>\n  </thead>\n  <tbody>\n    <tr>\n      <th>count</th>\n      <td>253.000000</td>\n      <td>253.000000</td>\n      <td>2.530000e+02</td>\n      <td>2.530000e+02</td>\n      <td>2.530000e+02</td>\n      <td>2.530000e+02</td>\n      <td>2.530000e+02</td>\n      <td>2.530000e+02</td>\n    </tr>\n    <tr>\n      <th>mean</th>\n      <td>126.000000</td>\n      <td>1836.355731</td>\n      <td>1.389446e+06</td>\n      <td>2.187685e+06</td>\n      <td>5.158577e+05</td>\n      <td>9.156419e+04</td>\n      <td>3.623566e+07</td>\n      <td>6.476821e+06</td>\n    </tr>\n    <tr>\n      <th>std</th>\n      <td>73.179004</td>\n      <td>9777.432248</td>\n      <td>6.817831e+06</td>\n      <td>1.084677e+07</td>\n      <td>2.517633e+06</td>\n      <td>4.171119e+05</td>\n      <td>1.700937e+08</td>\n      <td>3.185529e+07</td>\n    </tr>\n    <tr>\n      <th>min</th>\n      <td>0.000000</td>\n      <td>1.000000</td>\n      <td>5.400000e-01</td>\n      <td>1.000000e+00</td>\n      <td>3.000000e+00</td>\n      <td>2.000000e+00</td>\n      <td>1.560000e+02</td>\n      <td>1.390000e+01</td>\n    </tr>\n    <tr>\n      <th>25%</th>\n      <td>63.000000</td>\n      <td>41.000000</td>\n      <td>2.191154e+04</td>\n      <td>3.788700e+04</td>\n      <td>7.069000e+03</td>\n      <td>1.427000e+03</td>\n      <td>4.423540e+05</td>\n      <td>1.314644e+05</td>\n    </tr>\n    <tr>\n      <th>50%</th>\n      <td>126.000000</td>\n      <td>102.000000</td>\n      <td>5.478048e+04</td>\n      <td>9.217000e+04</td>\n      <td>2.060400e+04</td>\n      <td>4.260000e+03</td>\n      <td>1.762010e+06</td>\n      <td>3.501921e+05</td>\n    </tr>\n    <tr>\n      <th>75%</th>\n      <td>189.000000</td>\n      <td>502.000000</td>\n      <td>2.908862e+05</td>\n      <td>4.827490e+05</td>\n      <td>1.040740e+05</td>\n      <td>2.629900e+04</td>\n      <td>1.021018e+07</td>\n      <td>1.667536e+06</td>\n    </tr>\n    <tr>\n      <th>max</th>\n      <td>252.000000</td>\n      <td>135643.000000</td>\n      <td>8.653212e+07</td>\n      <td>1.376642e+08</td>\n      <td>3.141089e+07</td>\n      <td>5.453964e+06</td>\n      <td>2.252122e+09</td>\n      <td>4.124712e+08</td>\n    </tr>\n  </tbody>\n</table>\n</div>"
     },
     "execution_count": 8,
     "metadata": {},
     "output_type": "execute_result"
    }
   ],
   "source": [
    "country_df.describe()"
   ],
   "metadata": {
    "collapsed": false,
    "pycharm": {
     "name": "#%%\n"
    }
   }
  },
  {
   "cell_type": "code",
   "execution_count": 9,
   "outputs": [
    {
     "data": {
      "text/plain": "Rank       0.0\nCountry    0.0\nPlayers    0.0\nPoints     0.0\nNumber     0.0\nGames      0.0\nBadges     0.0\nXP         0.0\nHours      0.0\ndtype: float64"
     },
     "execution_count": 9,
     "metadata": {},
     "output_type": "execute_result"
    }
   ],
   "source": [
    "(country_df.isnull().sum() * 100 / len(achieve_df)).round(2)"
   ],
   "metadata": {
    "collapsed": false,
    "pycharm": {
     "name": "#%%\n"
    }
   }
  },
  {
   "cell_type": "markdown",
   "source": [
    "By checking if every country is represented only once, we can check for redundancies."
   ],
   "metadata": {
    "collapsed": false,
    "pycharm": {
     "name": "#%% md\n"
    }
   }
  },
  {
   "cell_type": "code",
   "execution_count": 10,
   "outputs": [
    {
     "data": {
      "text/plain": "                      count\nMoldova, Republic of      2",
      "text/html": "<div>\n<style scoped>\n    .dataframe tbody tr th:only-of-type {\n        vertical-align: middle;\n    }\n\n    .dataframe tbody tr th {\n        vertical-align: top;\n    }\n\n    .dataframe thead th {\n        text-align: right;\n    }\n</style>\n<table border=\"1\" class=\"dataframe\">\n  <thead>\n    <tr style=\"text-align: right;\">\n      <th></th>\n      <th>count</th>\n    </tr>\n  </thead>\n  <tbody>\n    <tr>\n      <th>Moldova, Republic of</th>\n      <td>2</td>\n    </tr>\n  </tbody>\n</table>\n</div>"
     },
     "execution_count": 10,
     "metadata": {},
     "output_type": "execute_result"
    }
   ],
   "source": [
    "v = pd.DataFrame(country_df[\"Country\"].value_counts())\n",
    "v = v.rename(columns={v.columns[0]: \"count\"})\n",
    "v[v[\"count\"] >= 2]"
   ],
   "metadata": {
    "collapsed": false,
    "pycharm": {
     "name": "#%%\n"
    }
   }
  },
  {
   "cell_type": "markdown",
   "source": [
    "Since the *Republic of Moldova* is represented twice, in the following we fix this. The easiest way to do that, is by summing up the `Country` column and resetting its index afterwards. Then we use the index to assess the ranks again."
   ],
   "metadata": {
    "collapsed": false,
    "pycharm": {
     "name": "#%% md\n"
    }
   }
  },
  {
   "cell_type": "code",
   "execution_count": 11,
   "outputs": [
    {
     "data": {
      "text/plain": "     Rank               Country  Players     Points  Number  Games  Badges  \\\n80     80  Moldova, Republic of      319  159549.13  250077  44076   11088   \n251   251  Moldova, Republic of        2     617.02     752    129     116   \n\n          XP     Hours  \n80   3369847  790724.4  \n251    17486    1939.9  ",
      "text/html": "<div>\n<style scoped>\n    .dataframe tbody tr th:only-of-type {\n        vertical-align: middle;\n    }\n\n    .dataframe tbody tr th {\n        vertical-align: top;\n    }\n\n    .dataframe thead th {\n        text-align: right;\n    }\n</style>\n<table border=\"1\" class=\"dataframe\">\n  <thead>\n    <tr style=\"text-align: right;\">\n      <th></th>\n      <th>Rank</th>\n      <th>Country</th>\n      <th>Players</th>\n      <th>Points</th>\n      <th>Number</th>\n      <th>Games</th>\n      <th>Badges</th>\n      <th>XP</th>\n      <th>Hours</th>\n    </tr>\n  </thead>\n  <tbody>\n    <tr>\n      <th>80</th>\n      <td>80</td>\n      <td>Moldova, Republic of</td>\n      <td>319</td>\n      <td>159549.13</td>\n      <td>250077</td>\n      <td>44076</td>\n      <td>11088</td>\n      <td>3369847</td>\n      <td>790724.4</td>\n    </tr>\n    <tr>\n      <th>251</th>\n      <td>251</td>\n      <td>Moldova, Republic of</td>\n      <td>2</td>\n      <td>617.02</td>\n      <td>752</td>\n      <td>129</td>\n      <td>116</td>\n      <td>17486</td>\n      <td>1939.9</td>\n    </tr>\n  </tbody>\n</table>\n</div>"
     },
     "execution_count": 11,
     "metadata": {},
     "output_type": "execute_result"
    }
   ],
   "source": [
    "country_df[country_df[\"Country\"] == \"Moldova, Republic of\"]"
   ],
   "metadata": {
    "collapsed": false,
    "pycharm": {
     "name": "#%%\n"
    }
   }
  },
  {
   "cell_type": "code",
   "execution_count": 12,
   "outputs": [],
   "source": [
    "country_df = country_df.groupby([\"Country\"]).sum()\n",
    "country_df[\"Country\"] = country_df.index"
   ],
   "metadata": {
    "collapsed": false,
    "pycharm": {
     "name": "#%%\n"
    }
   }
  },
  {
   "cell_type": "markdown",
   "source": [],
   "metadata": {
    "collapsed": false,
    "pycharm": {
     "name": "#%% md\n"
    }
   }
  },
  {
   "cell_type": "code",
   "execution_count": 13,
   "outputs": [],
   "source": [
    "country_df = country_df.sort_values(\"Points\", ascending=False)\n",
    "country_df = country_df.reset_index(drop=True)\n",
    "country_df[\"Rank\"] = country_df.index\n",
    "country_df[\"Rank\"] += 1\n"
   ],
   "metadata": {
    "collapsed": false,
    "pycharm": {
     "name": "#%%\n"
    }
   }
  },
  {
   "cell_type": "markdown",
   "source": [
    "### Data Quality\n",
    "We use the same criteria here:\n",
    "- **Correctness**: Since the `country_df` is using the data from `achievement_df` we can assume that the data is also correct.\n",
    "- **Completeness**: Overall the data has no missing entries, but since the data is used from the `achievement_df` and there are some null values, the data is not fully complete, but these values are not used. Hence, the data can be seen as complete.\n",
    "- **Redundancy**: By looking at the `Country` column, we can see that we got 1 duplicate entry, but we can not determine if the data is redundant, since the data is not the same. Still, we can't say if the data in one of the aggregated column is the same and hence redundant. This issue can be fixed later on and then classified as redundant free."
   ],
   "metadata": {
    "collapsed": false,
    "pycharm": {
     "name": "#%% md\n"
    }
   }
  },
  {
   "cell_type": "markdown",
   "source": [
    "## Data Preparation\n",
    "\n",
    "The goal of the analysis is to do an EDA and use some ML Algorithm (not sure what to do at this point), the data needs to be prepared, besides the data cleansing in the previous section. For this we tackle the problems that can be seen in the data description. First, we drop the `Unnamed: 0` column, since this is the rank but has some errors. For the ranking we can use the `Rank` column. Also, I decided to drop the `All` column because I don't know what the column represents. After that the `#` is renamed into `Achievement amount`."
   ],
   "metadata": {
    "collapsed": false,
    "pycharm": {
     "name": "#%% md\n"
    }
   }
  },
  {
   "cell_type": "code",
   "execution_count": 14,
   "outputs": [],
   "source": [
    "achieve_df = achieve_df.drop(columns=[\"Unnamed: 0\", \"All\"])"
   ],
   "metadata": {
    "collapsed": false,
    "pycharm": {
     "name": "#%%\n"
    }
   }
  },
  {
   "cell_type": "code",
   "execution_count": 15,
   "outputs": [],
   "source": [
    "achieve_df = achieve_df.rename(columns={\"#\": \"Achievement amount\"})"
   ],
   "metadata": {
    "collapsed": false,
    "pycharm": {
     "name": "#%%\n"
    }
   }
  },
  {
   "cell_type": "markdown",
   "source": [
    "For the names that are null values I decided to fill the values with the corresponding values from `Player Id`."
   ],
   "metadata": {
    "collapsed": false,
    "pycharm": {
     "name": "#%% md\n"
    }
   }
  },
  {
   "cell_type": "code",
   "execution_count": 16,
   "outputs": [],
   "source": [
    "achieve_df[\"Player Name\"].fillna(achieve_df[\"Player Id\"], inplace=True)"
   ],
   "metadata": {
    "collapsed": false,
    "pycharm": {
     "name": "#%%\n"
    }
   }
  },
  {
   "cell_type": "code",
   "execution_count": 17,
   "outputs": [
    {
     "data": {
      "text/plain": "Rank                     0\nPlayer Id                0\nPlayer Name              0\nBest achievements       10\nPoints                   0\nAchievement amount       0\nGames                    0\n100%                     0\nBadges                   0\nXP                       0\nMember since          7722\nHours                    0\nLast update              0\ndtype: int64"
     },
     "execution_count": 17,
     "metadata": {},
     "output_type": "execute_result"
    }
   ],
   "source": [
    "achieve_df.isnull().sum()"
   ],
   "metadata": {
    "collapsed": false,
    "pycharm": {
     "name": "#%%\n"
    }
   }
  },
  {
   "cell_type": "code",
   "execution_count": 18,
   "outputs": [
    {
     "data": {
      "text/plain": "        Rank          Player Id   Player Name Best achievements   Points  \\\n67841  67842  76561198164451379           san               NaN  1411.81   \n70117  70118  76561197970701003  CaptainSheep               NaN  1379.40   \n70357  70358  76561198106176006          weed               NaN  1375.98   \n70395  70396  76561197995673921       ursopro               NaN  1375.53   \n70690  70691  76561197986658694        Fiesi™               NaN  1371.67   \n70964  70965  76561198020486150      malachai               NaN  1367.87   \n71022  71023  76561199013685904         sloww               NaN  1367.12   \n71598  71599  76561197984650935          zalo               NaN  1359.17   \n72587  72588  76561197969681731         Jiboo               NaN  1346.57   \n74234  74235  76561198385818313        Swaggy               NaN  1324.89   \n\n       Achievement amount  Games  100%  Badges     XP Member since   Hours  \\\n67841                2120    240    25      59  53278   11/22/2014  4511.1   \n70117                2440    565     6      70  10614   11/18/2004  3626.0   \n70357                2092    148     4      55  24321   09/06/2013  7749.8   \n70395                2497    808    23      83  35450   01/10/2008  9668.8   \n70690                2300    485     0      13   3453   12/09/2006  3543.8   \n70964                2305    504     9      37   6217   01/29/2010  4338.6   \n71022                2139    129    19      30   6893   12/26/2019  2195.5   \n71598                2578    288     1      13   2676   09/01/2006  8132.6   \n72587                2664    424     5      13   9516   10/17/2004  4681.6   \n74234                1728    103    55      28   8011   05/01/2017  2057.1   \n\n               Last update  \n67841  01/31/2022 02:23:02  \n70117  05/12/2019 02:55:32  \n70357  05/22/2021 23:09:34  \n70395  05/25/2021 00:16:10  \n70690  09/21/2020 04:13:14  \n70964  01/13/2022 00:43:24  \n71022  06/29/2021 21:29:00  \n71598  09/22/2021 12:42:52  \n72587  04/25/2021 18:30:02  \n74234  09/24/2021 09:03:05  ",
      "text/html": "<div>\n<style scoped>\n    .dataframe tbody tr th:only-of-type {\n        vertical-align: middle;\n    }\n\n    .dataframe tbody tr th {\n        vertical-align: top;\n    }\n\n    .dataframe thead th {\n        text-align: right;\n    }\n</style>\n<table border=\"1\" class=\"dataframe\">\n  <thead>\n    <tr style=\"text-align: right;\">\n      <th></th>\n      <th>Rank</th>\n      <th>Player Id</th>\n      <th>Player Name</th>\n      <th>Best achievements</th>\n      <th>Points</th>\n      <th>Achievement amount</th>\n      <th>Games</th>\n      <th>100%</th>\n      <th>Badges</th>\n      <th>XP</th>\n      <th>Member since</th>\n      <th>Hours</th>\n      <th>Last update</th>\n    </tr>\n  </thead>\n  <tbody>\n    <tr>\n      <th>67841</th>\n      <td>67842</td>\n      <td>76561198164451379</td>\n      <td>san</td>\n      <td>NaN</td>\n      <td>1411.81</td>\n      <td>2120</td>\n      <td>240</td>\n      <td>25</td>\n      <td>59</td>\n      <td>53278</td>\n      <td>11/22/2014</td>\n      <td>4511.1</td>\n      <td>01/31/2022 02:23:02</td>\n    </tr>\n    <tr>\n      <th>70117</th>\n      <td>70118</td>\n      <td>76561197970701003</td>\n      <td>CaptainSheep</td>\n      <td>NaN</td>\n      <td>1379.40</td>\n      <td>2440</td>\n      <td>565</td>\n      <td>6</td>\n      <td>70</td>\n      <td>10614</td>\n      <td>11/18/2004</td>\n      <td>3626.0</td>\n      <td>05/12/2019 02:55:32</td>\n    </tr>\n    <tr>\n      <th>70357</th>\n      <td>70358</td>\n      <td>76561198106176006</td>\n      <td>weed</td>\n      <td>NaN</td>\n      <td>1375.98</td>\n      <td>2092</td>\n      <td>148</td>\n      <td>4</td>\n      <td>55</td>\n      <td>24321</td>\n      <td>09/06/2013</td>\n      <td>7749.8</td>\n      <td>05/22/2021 23:09:34</td>\n    </tr>\n    <tr>\n      <th>70395</th>\n      <td>70396</td>\n      <td>76561197995673921</td>\n      <td>ursopro</td>\n      <td>NaN</td>\n      <td>1375.53</td>\n      <td>2497</td>\n      <td>808</td>\n      <td>23</td>\n      <td>83</td>\n      <td>35450</td>\n      <td>01/10/2008</td>\n      <td>9668.8</td>\n      <td>05/25/2021 00:16:10</td>\n    </tr>\n    <tr>\n      <th>70690</th>\n      <td>70691</td>\n      <td>76561197986658694</td>\n      <td>Fiesi™</td>\n      <td>NaN</td>\n      <td>1371.67</td>\n      <td>2300</td>\n      <td>485</td>\n      <td>0</td>\n      <td>13</td>\n      <td>3453</td>\n      <td>12/09/2006</td>\n      <td>3543.8</td>\n      <td>09/21/2020 04:13:14</td>\n    </tr>\n    <tr>\n      <th>70964</th>\n      <td>70965</td>\n      <td>76561198020486150</td>\n      <td>malachai</td>\n      <td>NaN</td>\n      <td>1367.87</td>\n      <td>2305</td>\n      <td>504</td>\n      <td>9</td>\n      <td>37</td>\n      <td>6217</td>\n      <td>01/29/2010</td>\n      <td>4338.6</td>\n      <td>01/13/2022 00:43:24</td>\n    </tr>\n    <tr>\n      <th>71022</th>\n      <td>71023</td>\n      <td>76561199013685904</td>\n      <td>sloww</td>\n      <td>NaN</td>\n      <td>1367.12</td>\n      <td>2139</td>\n      <td>129</td>\n      <td>19</td>\n      <td>30</td>\n      <td>6893</td>\n      <td>12/26/2019</td>\n      <td>2195.5</td>\n      <td>06/29/2021 21:29:00</td>\n    </tr>\n    <tr>\n      <th>71598</th>\n      <td>71599</td>\n      <td>76561197984650935</td>\n      <td>zalo</td>\n      <td>NaN</td>\n      <td>1359.17</td>\n      <td>2578</td>\n      <td>288</td>\n      <td>1</td>\n      <td>13</td>\n      <td>2676</td>\n      <td>09/01/2006</td>\n      <td>8132.6</td>\n      <td>09/22/2021 12:42:52</td>\n    </tr>\n    <tr>\n      <th>72587</th>\n      <td>72588</td>\n      <td>76561197969681731</td>\n      <td>Jiboo</td>\n      <td>NaN</td>\n      <td>1346.57</td>\n      <td>2664</td>\n      <td>424</td>\n      <td>5</td>\n      <td>13</td>\n      <td>9516</td>\n      <td>10/17/2004</td>\n      <td>4681.6</td>\n      <td>04/25/2021 18:30:02</td>\n    </tr>\n    <tr>\n      <th>74234</th>\n      <td>74235</td>\n      <td>76561198385818313</td>\n      <td>Swaggy</td>\n      <td>NaN</td>\n      <td>1324.89</td>\n      <td>1728</td>\n      <td>103</td>\n      <td>55</td>\n      <td>28</td>\n      <td>8011</td>\n      <td>05/01/2017</td>\n      <td>2057.1</td>\n      <td>09/24/2021 09:03:05</td>\n    </tr>\n  </tbody>\n</table>\n</div>"
     },
     "execution_count": 18,
     "metadata": {},
     "output_type": "execute_result"
    }
   ],
   "source": [
    "achieve_df[achieve_df[\"Best achievements\"].isnull()]"
   ],
   "metadata": {
    "collapsed": false,
    "pycharm": {
     "name": "#%%\n"
    }
   }
  },
  {
   "cell_type": "markdown",
   "source": [
    "Next up we transform the `Member since` to an actual date."
   ],
   "metadata": {
    "collapsed": false,
    "pycharm": {
     "name": "#%% md\n"
    }
   }
  },
  {
   "cell_type": "markdown",
   "source": [
    "The next problem is, that we got some null values in the `Best achievements` column. My approach here is to replace these values with the entry *['Private profile']*. These entries represent already the case that the info cannot be fetched, because the profile is private. My guess is that these null values are either from the case were every achievement has the same points and thus there is no best achievement or the profile is actually private and some error while the scrapping of the data happened."
   ],
   "metadata": {
    "collapsed": false,
    "pycharm": {
     "name": "#%% md\n"
    }
   }
  },
  {
   "cell_type": "code",
   "execution_count": 19,
   "outputs": [],
   "source": [
    "achieve_df[\"Best achievements\"].fillna(\"['Private profile']\", inplace=True)"
   ],
   "metadata": {
    "collapsed": false,
    "pycharm": {
     "name": "#%%\n"
    }
   }
  },
  {
   "cell_type": "markdown",
   "source": [
    "Next we got the null values for the `Member since` column. My first guess was, that these values are also missing because of a private profile. Looking at the next cell, we can see that is the case in over 99%."
   ],
   "metadata": {
    "collapsed": false,
    "pycharm": {
     "name": "#%% md\n"
    }
   }
  },
  {
   "cell_type": "code",
   "execution_count": 20,
   "outputs": [
    {
     "data": {
      "text/plain": "['Private profile']                                                                                                                                                                                                                                                                                                                                                                                                                                                                                                                                              7708\nPrivate profile                                                                                                                                                                                                                                                                                                                                                                                                                                                                                                                                                     1\n['Prize Hungry (iO – 2.02 points)', 'Strategic Genius (Total War: EMPIRE - Definitive Edition – 1.98 points)', 'Show-off (iO – 1.96 points)', 'Mad Medal Collector (iO – 1.92 points)', 'Free-four-all (iO – 1.89 points)', 'Almost there... (iO – 1.89 points)', 'Collector (R.U.S.E – 1.84 points)', 'Chapter 10 - Silver Time (Bob Came in Pieces – 1.83 points)']                                                                                                                                                                                               1\n['Divine Destroyer (E.Y.E: Divine Cybermancy – 2.14 points)', 'Divine Seal (E.Y.E: Divine Cybermancy – 2.13 points)', 'Divine Warrior (E.Y.E: Divine Cybermancy – 2.09 points)', 'Antique Mechanism (E.Y.E: Divine Cybermancy – 1.74 points)', 'Pest Control (Contagion – 1.65 points)', 'Gray Master (E.Y.E: Divine Cybermancy – 1.64 points)', 'Arachnocider (The Mighty Quest For Epic Loot – 1.62 points)', 'House Arrest (F.E.A.R. 3 – 1.62 points)']                                                                                                          1\n['Feet Of Flames (inMomentum – 2.37 points)', 'Untouchable (inMomentum – 2.33 points)', 'First to the Finish Line (inMomentum – 2.12 points)', 'Lord of War (Iron Grip: Warlord – 1.87 points)', 'Champion (Iron Grip: Warlord – 1.71 points)', 'Swimming in the Sky (Guns of Icarus Online – 1.67 points)', 'Looter (Iron Grip: Warlord – 1.62 points)', 'The Bigger They Come... (Iron Grip: Warlord – 1.59 points)']                                                                                                                                             1\n['Being a Hero (Unreal Tournament 3: Black Edition – 1.94 points)', 'Ace (Unreal Tournament 3: Black Edition – 1.91 points)', 'Never Saw It Coming (Unreal Tournament 3: Black Edition – 1.89 points)', 'Eradication (Unreal Tournament 3: Black Edition – 1.87 points)', 'Paint the Town Red (Unreal Tournament 3: Black Edition – 1.85 points)', 'No Blood! No Blood! (Blackguards 2 – 1.83 points)', \"Don't Taze Me Bro! (Unreal Tournament 3: Black Edition – 1.80 points)\", 'Bag of Bones (Unreal Tournament 3: Black Edition – 1.78 points)']                 1\n['Friends-Rivals-Champions-Legends (DiRT Rally – 2.09 points)', 'Born to Run (DiRT Rally – 2.03 points)', 'Reversa Corsa (Project CARS – 1.92 points)', 'Sunday Driver (Project CARS – 1.90 points)', 'Taylor Would Be Proud (Project CARS – 1.89 points)', 'Team Hoops Victor (Robot Roller-Derby Disco Dodgeball – 1.89 points)', 'Lap Time Wizard (Project CARS – 1.85 points)', 'Grand Chelem (Project CARS – 1.80 points)']                                                                                                                                    1\n['Twister (Painkiller Hell & Damnation – 2.00 points)', 'Hanging 20 (F.E.A.R. 3 – 1.90 points)', 'Going Solo (Alien Rage - Unlimited – 1.87 points)', 'Do You Feel Lucky? (Alien Rage - Unlimited – 1.86 points)', 'Collector (Painkiller Hell & Damnation – 1.83 points)', '4x4 (Painkiller Hell & Damnation – 1.77 points)', 'Beard Grill (Painkiller Hell & Damnation – 1.77 points)', 'Cannibal Run (F.E.A.R. 3 – 1.76 points)']                                                                                                                                1\n['Math is Hard (Psychonauts – 1.62 points)', 'The Politics of Silencing Foes (METAL GEAR RISING: REVENGEANCE – 1.61 points)', 'A Lover, Not a Fighter (METAL GEAR RISING: REVENGEANCE – 1.59 points)', 'Kill Juanito (Tropico 4 – 1.59 points)', 'Figgy Piggy (Psychonauts – 1.58 points)', 'I Think They Were Impressed (Psychonauts – 1.57 points)', 'Red Ring Collector (Sonic Generations – 1.55 points)', 'Genius Destroyer (METAL GEAR RISING: REVENGEANCE – 1.54 points)']                                                                                   1\n['Dark Secrets (Sanctum 2 – 1.67 points)', 'Dead Blind (F.E.A.R. 3 – 1.64 points)', 'Art Collector (F.E.A.R. 3 – 1.62 points)', 'Seven Ten (Rise of the Triad – 1.59 points)', 'Munchies (Rise of the Triad – 1.59 points)', 'No can defense! (F.E.A.R. 3 – 1.58 points)', 'Centurial Reaver (Nosgoth – 1.57 points)', 'Fight in the Shade (Nosgoth – 1.52 points)']                                                                                                                                                                                                1\n['King (Killing Floor – 1.82 points)', 'Trappist Monk (Killing Floor – 1.82 points)', 'Master Brewer (Killing Floor – 1.78 points)', 'Business Class (Killing Floor – 1.76 points)', 'Cerberus (Killing Floor – 1.73 points)', 'Amnesia (Killing Floor – 1.73 points)', 'Stevedore (Killing Floor – 1.68 points)', 'Master of the Forgotten World (Age of Empires II (2013): The Forgotten – 1.64 points)']                                                                                                                                                         1\n['Absolute Zero (Champions Online – 2.80 points)', 'Joy Buzzer (Champions Online – 2.60 points)', 'Sub Zero (Champions Online – 2.51 points)', 'Big Game Hunter (Champions Online – 2.36 points)', 'Cold-blooded (Champions Online – 2.34 points)', 'Atom Smasher (Champions Online – 2.27 points)', 'Duelist (Champions Online – 2.25 points)', 'Good Riddance (Nuclear Throne – 2.10 points)']                                                                                                                                                                    1\n['Barrel Rolled (Left 4 Dead – 1.39 points)', 'Exile: Bug Splatter (Tier: Easy)', '(Hard Reset: Exile DLC – 1.34 points)', 'No One Left Behind (The Bureau: XCOM Declassified – 1.30 points)', 'Exile: Cop Killer (Tier: Easy)', '(Hard Reset: Exile DLC – 1.30 points)', 'Exile: Fugitive (Tier: Easy)', '(Hard Reset: Exile DLC – 1.29 points)', 'Exile: Deconstruction (Tier: Easy)', '(Hard Reset: Exile DLC – 1.28 points)', 'Chaos Generator (Left 4 Dead – 1.26 points)', 'Exile: Pest Control (Tier: Easy)', '(Hard Reset: Exile DLC – 1.25 points)']       1\n['Mudslide Gold (Fieldrunners – 2.12 points)', 'Frostbite Gold (Fieldrunners – 2.11 points)', 'Mudslide Silver (Fieldrunners – 2.11 points)', 'Lavaflow Gold (Fieldrunners – 2.10 points)', 'Crystal Caves Gold (Fieldrunners – 2.09 points)', 'Drylands Gold (Fieldrunners – 2.08 points)', 'Lavaflow Silver (Fieldrunners – 2.07 points)', 'Skyway Gold (Fieldrunners – 2.07 points)']                                                                                                                                                                            1\n['Getting Noticed (The Escapists – 2.00 points)', 'May Contain Side-Effects (Big Pharma – 1.87 points)', 'The Big Three (Big Pharma – 1.85 points)', 'Full House (Hammerwatch – 1.81 points)', 'Snorkel pipe boost (Awesomenauts – 1.80 points)', 'The Hard Dragon (Hammerwatch – 1.76 points)', 'The Hard Lich (Hammerwatch – 1.72 points)', \"Flower Power (King Arthur's Gold – 1.71 points)\"]                                                                                                                                                                    1\nName: Best achievements, dtype: int64"
     },
     "execution_count": 20,
     "metadata": {},
     "output_type": "execute_result"
    }
   ],
   "source": [
    "temp = achieve_df[\"Best achievements\"][achieve_df[\"Member since\"].isnull()].value_counts()\n",
    "temp"
   ],
   "metadata": {
    "collapsed": false,
    "pycharm": {
     "name": "#%%\n"
    }
   }
  },
  {
   "cell_type": "markdown",
   "source": [
    "Because of this insight I decided to replace the null values also with *['Private profile']*. This way we do not have null values, and we know why the value is most likely missing."
   ],
   "metadata": {
    "collapsed": false,
    "pycharm": {
     "name": "#%% md\n"
    }
   }
  },
  {
   "cell_type": "code",
   "execution_count": 21,
   "outputs": [],
   "source": [
    "achieve_df[\"Member since\"].fillna(\"['Private profile']\", inplace=True)"
   ],
   "metadata": {
    "collapsed": false,
    "pycharm": {
     "name": "#%%\n"
    }
   }
  },
  {
   "cell_type": "code",
   "execution_count": 22,
   "outputs": [],
   "source": [
    "def is_date(string, fuzzy=False):\n",
    "    try:\n",
    "        parse(string, fuzzy=fuzzy)\n",
    "        return True\n",
    "\n",
    "    except ValueError:\n",
    "        return False"
   ],
   "metadata": {
    "collapsed": false,
    "pycharm": {
     "name": "#%%\n"
    }
   }
  },
  {
   "cell_type": "code",
   "execution_count": 23,
   "outputs": [],
   "source": [
    "def convert_dt(string):\n",
    "    if is_date(string):\n",
    "        return parse(string).date()\n",
    "    return string"
   ],
   "metadata": {
    "collapsed": false,
    "pycharm": {
     "name": "#%%\n"
    }
   }
  },
  {
   "cell_type": "code",
   "execution_count": 24,
   "outputs": [],
   "source": [
    "achieve_df[\"Member since\"] = achieve_df[\"Member since\"].apply(convert_dt)"
   ],
   "metadata": {
    "collapsed": false,
    "pycharm": {
     "name": "#%%\n"
    }
   }
  },
  {
   "cell_type": "markdown",
   "source": [],
   "metadata": {
    "collapsed": false,
    "pycharm": {
     "name": "#%% md\n"
    }
   }
  },
  {
   "cell_type": "markdown",
   "source": [
    "First, we can split the strings of the first 30 entries by just split with the regex of two whitespaces."
   ],
   "metadata": {
    "collapsed": false,
    "pycharm": {
     "name": "#%% md\n"
    }
   }
  },
  {
   "cell_type": "code",
   "execution_count": 25,
   "outputs": [],
   "source": [
    "def transform(entry):\n",
    "    return entry.split(\"  \")"
   ],
   "metadata": {
    "collapsed": false,
    "pycharm": {
     "name": "#%%\n"
    }
   }
  },
  {
   "cell_type": "code",
   "execution_count": 26,
   "outputs": [
    {
     "name": "stderr",
     "output_type": "stream",
     "text": [
      "C:\\Users\\MARVIN~1\\AppData\\Local\\Temp/ipykernel_10344/2649268993.py:1: SettingWithCopyWarning: \n",
      "A value is trying to be set on a copy of a slice from a DataFrame\n",
      "\n",
      "See the caveats in the documentation: https://pandas.pydata.org/pandas-docs/stable/user_guide/indexing.html#returning-a-view-versus-a-copy\n",
      "  achieve_df[\"Best achievements\"][:30] = achieve_df[\"Best achievements\"][:30].apply(transform)\n"
     ]
    }
   ],
   "source": [
    "achieve_df[\"Best achievements\"][:30] = achieve_df[\"Best achievements\"][:30].apply(transform)"
   ],
   "metadata": {
    "collapsed": false,
    "pycharm": {
     "name": "#%%\n"
    }
   }
  },
  {
   "cell_type": "markdown",
   "source": [
    "Next up we can split the remaining entries by the following (found in this article: https://towardsdatascience.com/dealing-with-list-values-in-pandas-dataframes-a177e534f173)"
   ],
   "metadata": {
    "collapsed": false,
    "pycharm": {
     "name": "#%% md\n"
    }
   }
  },
  {
   "cell_type": "code",
   "execution_count": 27,
   "outputs": [
    {
     "name": "stderr",
     "output_type": "stream",
     "text": [
      "C:\\Users\\MARVIN~1\\AppData\\Local\\Temp/ipykernel_10344/3579967184.py:1: SettingWithCopyWarning: \n",
      "A value is trying to be set on a copy of a slice from a DataFrame\n",
      "\n",
      "See the caveats in the documentation: https://pandas.pydata.org/pandas-docs/stable/user_guide/indexing.html#returning-a-view-versus-a-copy\n",
      "  achieve_df[\"Best achievements\"][30:] = achieve_df[\"Best achievements\"][30:].apply(eval)\n"
     ]
    }
   ],
   "source": [
    "achieve_df[\"Best achievements\"][30:] = achieve_df[\"Best achievements\"][30:].apply(eval)"
   ],
   "metadata": {
    "collapsed": false,
    "pycharm": {
     "name": "#%%\n"
    }
   }
  },
  {
   "cell_type": "markdown",
   "source": [
    "With the following method, it is possible to transform the lists from a column into a single series."
   ],
   "metadata": {
    "collapsed": false,
    "pycharm": {
     "name": "#%% md\n"
    }
   }
  },
  {
   "cell_type": "code",
   "execution_count": 28,
   "outputs": [],
   "source": [
    "def to_1D(series):\n",
    "    return pd.Series([x for _list in series for x in _list])"
   ],
   "metadata": {
    "collapsed": false,
    "pycharm": {
     "name": "#%%\n"
    }
   }
  },
  {
   "cell_type": "markdown",
   "source": [
    "The next cell transforms the first 30 entries of the `Best achievements` to a Series. Since these entries missing information about game and points, I decided to split them from the other entries at first. This brought me up to the idea to search for the full achievement entry, by considering these as substrings of the \"complete\" entry and filter for them."
   ],
   "metadata": {
    "collapsed": false,
    "pycharm": {
     "name": "#%% md\n"
    }
   }
  },
  {
   "cell_type": "code",
   "execution_count": 29,
   "outputs": [],
   "source": [
    "first_thirty = to_1D(achieve_df.iloc[:30][\"Best achievements\"])\n",
    "first_thirty = pd.DataFrame(first_thirty)\n",
    "first_thirty = first_thirty.rename(columns={first_thirty.columns[0]: \"old\"})\n"
   ],
   "metadata": {
    "collapsed": false,
    "pycharm": {
     "name": "#%%\n"
    }
   }
  },
  {
   "cell_type": "markdown",
   "source": [
    "Next up the remaining entries get turned into a Series"
   ],
   "metadata": {
    "collapsed": false,
    "pycharm": {
     "name": "#%% md\n"
    }
   }
  },
  {
   "cell_type": "code",
   "execution_count": 30,
   "outputs": [],
   "source": [
    "rest_entries = pd.DataFrame(to_1D(achieve_df.iloc[30:][\"Best achievements\"]))\n",
    "rest_entries = rest_entries.rename(columns={rest_entries.columns[0]: \"old\"})"
   ],
   "metadata": {
    "collapsed": false,
    "pycharm": {
     "name": "#%%\n"
    }
   }
  },
  {
   "cell_type": "markdown",
   "source": [
    "Next up we create an empty series to hold all the complete achievements of the first 30 entries, and we add them to the `first_thirty` as a new column. This basically represents a dictionary which then can be used to replace the uncompleted achievements."
   ],
   "metadata": {
    "collapsed": false,
    "pycharm": {
     "name": "#%% md\n"
    }
   }
  },
  {
   "cell_type": "code",
   "execution_count": 31,
   "outputs": [
    {
     "name": "stderr",
     "output_type": "stream",
     "text": [
      "C:\\Users\\MARVIN~1\\AppData\\Local\\Temp/ipykernel_10344/394412737.py:1: DeprecationWarning: The default dtype for empty Series will be 'object' instead of 'float64' in a future version. Specify a dtype explicitly to silence this warning.\n",
      "  temp_series = pd.Series([])\n",
      "C:\\Users\\MARVIN~1\\AppData\\Local\\Temp/ipykernel_10344/394412737.py:3: UserWarning: This pattern has match groups. To actually get the groups, use str.extract.\n",
      "  temp_series.loc[i] = rest_entries[\"old\"][rest_entries['old'].str.contains(first_thirty.iloc[i][\"old\"]).idxmax()]\n"
     ]
    }
   ],
   "source": [
    "temp_series = pd.Series([])\n",
    "for i in range(len(first_thirty)):\n",
    "    temp_series.loc[i] = rest_entries[\"old\"][rest_entries['old'].str.contains(first_thirty.iloc[i][\"old\"]).idxmax()]\n",
    "first_thirty[\"new\"] = temp_series"
   ],
   "metadata": {
    "collapsed": false,
    "pycharm": {
     "name": "#%%\n"
    }
   }
  },
  {
   "cell_type": "markdown",
   "source": [
    "In the following cell we do the actual matching of the pattern, and thus we finally have the full information of the achievements in every entry."
   ],
   "metadata": {
    "collapsed": false,
    "pycharm": {
     "name": "#%% md\n"
    }
   }
  },
  {
   "cell_type": "code",
   "execution_count": 32,
   "outputs": [
    {
     "name": "stderr",
     "output_type": "stream",
     "text": [
      "C:\\Users\\MARVIN~1\\AppData\\Local\\Temp/ipykernel_10344/3391155536.py:3: UserWarning: This pattern has match groups. To actually get the groups, use str.extract.\n",
      "  if first_thirty[\"old\"].str.contains(achieve_df.iloc[i][\"Best achievements\"][j]).idxmax() is not None:\n",
      "C:\\Users\\MARVIN~1\\AppData\\Local\\Temp/ipykernel_10344/3391155536.py:5: UserWarning: This pattern has match groups. To actually get the groups, use str.extract.\n",
      "  first_thirty[\"old\"].str.contains(achieve_df.iloc[i][\"Best achievements\"][j]).idxmax()]\n"
     ]
    }
   ],
   "source": [
    "for i in range(29):\n",
    "    for j in range(len(achieve_df.iloc[i][\"Best achievements\"])):\n",
    "        if first_thirty[\"old\"].str.contains(achieve_df.iloc[i][\"Best achievements\"][j]).idxmax() is not None:\n",
    "            achieve_df.iloc[i][\"Best achievements\"][j] = first_thirty[\"new\"][\n",
    "                first_thirty[\"old\"].str.contains(achieve_df.iloc[i][\"Best achievements\"][j]).idxmax()]"
   ],
   "metadata": {
    "collapsed": false,
    "pycharm": {
     "name": "#%%\n"
    }
   }
  },
  {
   "cell_type": "markdown",
   "source": [
    "Since now, we have homogeneous entries in the `Best achievement` we can use the `to_1D()` method to create a new Series and can be transformed into a df with information about the game and points about the achievement. First we split the achievement by **(**. This already gives us the name of the achievement and the game (and points) split into separate columns. This is down by splitting the achievement strings in different ways, as you can see in the following cells. Afterwards, we aggregate all in `best_achievements_df`."
   ],
   "metadata": {
    "collapsed": false,
    "pycharm": {
     "name": "#%% md\n"
    }
   }
  },
  {
   "cell_type": "code",
   "execution_count": 33,
   "outputs": [
    {
     "data": {
      "text/plain": "                     Achievement                                   Game\n0         Blessing of the Flame           Your Chronicle – 2.82 points)\n1                    Requiescat           Your Chronicle – 2.52 points)\n2               Memory Awakener           Your Chronicle – 2.47 points)\n3            Those are too easy           Your Chronicle – 2.36 points)\n4                   I want that           Your Chronicle – 2.32 points)\n...                          ...                                    ...\n1575402                 Tourist             Toki Tori 2+ – 1.67 points)\n1575403  Kill That F**ing Band!   Sniper Ghost Warrior 2 – 1.60 points)\n1575404               The heavy             Toki Tori 2+ – 1.60 points)\n1575405         Second thoughts             Toki Tori 2+ – 1.56 points)\n1575406         YOU'VE GOT MAIL                Cubemen 2 – 1.55 points)\n\n[1575407 rows x 2 columns]",
      "text/html": "<div>\n<style scoped>\n    .dataframe tbody tr th:only-of-type {\n        vertical-align: middle;\n    }\n\n    .dataframe tbody tr th {\n        vertical-align: top;\n    }\n\n    .dataframe thead th {\n        text-align: right;\n    }\n</style>\n<table border=\"1\" class=\"dataframe\">\n  <thead>\n    <tr style=\"text-align: right;\">\n      <th></th>\n      <th>Achievement</th>\n      <th>Game</th>\n    </tr>\n  </thead>\n  <tbody>\n    <tr>\n      <th>0</th>\n      <td>Blessing of the Flame</td>\n      <td>Your Chronicle – 2.82 points)</td>\n    </tr>\n    <tr>\n      <th>1</th>\n      <td>Requiescat</td>\n      <td>Your Chronicle – 2.52 points)</td>\n    </tr>\n    <tr>\n      <th>2</th>\n      <td>Memory Awakener</td>\n      <td>Your Chronicle – 2.47 points)</td>\n    </tr>\n    <tr>\n      <th>3</th>\n      <td>Those are too easy</td>\n      <td>Your Chronicle – 2.36 points)</td>\n    </tr>\n    <tr>\n      <th>4</th>\n      <td>I want that</td>\n      <td>Your Chronicle – 2.32 points)</td>\n    </tr>\n    <tr>\n      <th>...</th>\n      <td>...</td>\n      <td>...</td>\n    </tr>\n    <tr>\n      <th>1575402</th>\n      <td>Tourist</td>\n      <td>Toki Tori 2+ – 1.67 points)</td>\n    </tr>\n    <tr>\n      <th>1575403</th>\n      <td>Kill That F**ing Band!</td>\n      <td>Sniper Ghost Warrior 2 – 1.60 points)</td>\n    </tr>\n    <tr>\n      <th>1575404</th>\n      <td>The heavy</td>\n      <td>Toki Tori 2+ – 1.60 points)</td>\n    </tr>\n    <tr>\n      <th>1575405</th>\n      <td>Second thoughts</td>\n      <td>Toki Tori 2+ – 1.56 points)</td>\n    </tr>\n    <tr>\n      <th>1575406</th>\n      <td>YOU'VE GOT MAIL</td>\n      <td>Cubemen 2 – 1.55 points)</td>\n    </tr>\n  </tbody>\n</table>\n<p>1575407 rows × 2 columns</p>\n</div>"
     },
     "execution_count": 33,
     "metadata": {},
     "output_type": "execute_result"
    }
   ],
   "source": [
    "best_achievements = pd.DataFrame(to_1D(achieve_df[\"Best achievements\"]))\n",
    "best_achievements = best_achievements.iloc[:, 0].str.split(\"(\", 1, expand=True)\n",
    "best_achievements_df = best_achievements.rename(\n",
    "    columns={best_achievements.columns[0]: \"Achievement\", best_achievements.columns[1]: \"Game\"})\n",
    "best_achievements_df"
   ],
   "metadata": {
    "collapsed": false,
    "pycharm": {
     "name": "#%%\n"
    }
   }
  },
  {
   "cell_type": "code",
   "execution_count": 34,
   "outputs": [],
   "source": [
    "games_points_split = best_achievements_df[\"Game\"].str.rsplit(\"–\", 1, expand=True).rename(lambda x: f'col{x + 1}', axis=1)"
   ],
   "metadata": {
    "collapsed": false,
    "pycharm": {
     "name": "#%%\n"
    }
   }
  },
  {
   "cell_type": "code",
   "execution_count": 35,
   "outputs": [],
   "source": [
    "points_as_double = games_points_split[\"col2\"].str.split(\"p\",1,expand=True)"
   ],
   "metadata": {
    "collapsed": false,
    "pycharm": {
     "name": "#%%\n"
    }
   }
  },
  {
   "cell_type": "code",
   "execution_count": 36,
   "outputs": [],
   "source": [
    "best_achievements_df[\"Game\"] = games_points_split[\"col1\"]\n",
    "best_achievements_df[\"Points\"] = points_as_double.iloc[:,0].astype(float)\n"
   ],
   "metadata": {
    "collapsed": false,
    "pycharm": {
     "name": "#%%\n"
    }
   }
  },
  {
   "cell_type": "markdown",
   "source": [
    "After that I checked if there are some null values, which indicates that something went wrong with the splitting. This could happen if the entry is in the wrong format or the profile is private (which means there is no info about the achievements)."
   ],
   "metadata": {
    "collapsed": false,
    "pycharm": {
     "name": "#%% md\n"
    }
   }
  },
  {
   "cell_type": "code",
   "execution_count": 37,
   "outputs": [
    {
     "data": {
      "text/plain": "Achievement    0.00\nGame           1.11\nPoints         2.87\ndtype: float64"
     },
     "execution_count": 37,
     "metadata": {},
     "output_type": "execute_result"
    }
   ],
   "source": [
    "(best_achievements_df.isnull().sum() * 100 / len(best_achievements_df)).round(2)"
   ],
   "metadata": {
    "collapsed": false,
    "pycharm": {
     "name": "#%%\n"
    }
   }
  },
  {
   "cell_type": "markdown",
   "source": [
    "Since we're only missing 2.87% of the values I decided to just drop these values."
   ],
   "metadata": {
    "collapsed": false,
    "pycharm": {
     "name": "#%% md\n"
    }
   }
  },
  {
   "cell_type": "code",
   "execution_count": 38,
   "outputs": [],
   "source": [
    "best_achievements_df = best_achievements_df[best_achievements_df[\"Points\"].notnull()]"
   ],
   "metadata": {
    "collapsed": false,
    "pycharm": {
     "name": "#%%\n"
    }
   }
  },
  {
   "cell_type": "code",
   "execution_count": 39,
   "outputs": [
    {
     "data": {
      "text/plain": "Achievement    0\nGame           0\nPoints         0\ndtype: int64"
     },
     "execution_count": 39,
     "metadata": {},
     "output_type": "execute_result"
    }
   ],
   "source": [
    "best_achievements_df.isnull().sum()"
   ],
   "metadata": {
    "collapsed": false,
    "pycharm": {
     "name": "#%%\n"
    }
   }
  },
  {
   "cell_type": "markdown",
   "source": [
    "## Exploratory Data Analysis (EDA)\n",
    "\n",
    "### EDA best achievements\n",
    "After finishing the Data Preparation and before we go over to a Data Modelling phase, I wanted to get some insights by doing an EDA of the three dataframes. The first df I looked at was the `best_achievements_df`. The insight I wanted to gain, is about the points grouped by the games. This can give an answer to questions like *What game rewarded the most points?* or *Are there some games that give by far more points than all the others?*.\n"
   ],
   "metadata": {
    "collapsed": false,
    "pycharm": {
     "name": "#%% md\n"
    }
   }
  },
  {
   "cell_type": "code",
   "execution_count": 40,
   "outputs": [
    {
     "data": {
      "text/plain": "                     Achievement                     Game  Points\n0         Blessing of the Flame           Your Chronicle     2.82\n1                    Requiescat           Your Chronicle     2.52\n2               Memory Awakener           Your Chronicle     2.47\n3            Those are too easy           Your Chronicle     2.36\n4                   I want that           Your Chronicle     2.32\n...                          ...                      ...     ...\n1575402                 Tourist             Toki Tori 2+     1.67\n1575403  Kill That F**ing Band!   Sniper Ghost Warrior 2     1.60\n1575404               The heavy             Toki Tori 2+     1.60\n1575405         Second thoughts             Toki Tori 2+     1.56\n1575406         YOU'VE GOT MAIL                Cubemen 2     1.55\n\n[1530241 rows x 3 columns]",
      "text/html": "<div>\n<style scoped>\n    .dataframe tbody tr th:only-of-type {\n        vertical-align: middle;\n    }\n\n    .dataframe tbody tr th {\n        vertical-align: top;\n    }\n\n    .dataframe thead th {\n        text-align: right;\n    }\n</style>\n<table border=\"1\" class=\"dataframe\">\n  <thead>\n    <tr style=\"text-align: right;\">\n      <th></th>\n      <th>Achievement</th>\n      <th>Game</th>\n      <th>Points</th>\n    </tr>\n  </thead>\n  <tbody>\n    <tr>\n      <th>0</th>\n      <td>Blessing of the Flame</td>\n      <td>Your Chronicle</td>\n      <td>2.82</td>\n    </tr>\n    <tr>\n      <th>1</th>\n      <td>Requiescat</td>\n      <td>Your Chronicle</td>\n      <td>2.52</td>\n    </tr>\n    <tr>\n      <th>2</th>\n      <td>Memory Awakener</td>\n      <td>Your Chronicle</td>\n      <td>2.47</td>\n    </tr>\n    <tr>\n      <th>3</th>\n      <td>Those are too easy</td>\n      <td>Your Chronicle</td>\n      <td>2.36</td>\n    </tr>\n    <tr>\n      <th>4</th>\n      <td>I want that</td>\n      <td>Your Chronicle</td>\n      <td>2.32</td>\n    </tr>\n    <tr>\n      <th>...</th>\n      <td>...</td>\n      <td>...</td>\n      <td>...</td>\n    </tr>\n    <tr>\n      <th>1575402</th>\n      <td>Tourist</td>\n      <td>Toki Tori 2+</td>\n      <td>1.67</td>\n    </tr>\n    <tr>\n      <th>1575403</th>\n      <td>Kill That F**ing Band!</td>\n      <td>Sniper Ghost Warrior 2</td>\n      <td>1.60</td>\n    </tr>\n    <tr>\n      <th>1575404</th>\n      <td>The heavy</td>\n      <td>Toki Tori 2+</td>\n      <td>1.60</td>\n    </tr>\n    <tr>\n      <th>1575405</th>\n      <td>Second thoughts</td>\n      <td>Toki Tori 2+</td>\n      <td>1.56</td>\n    </tr>\n    <tr>\n      <th>1575406</th>\n      <td>YOU'VE GOT MAIL</td>\n      <td>Cubemen 2</td>\n      <td>1.55</td>\n    </tr>\n  </tbody>\n</table>\n<p>1530241 rows × 3 columns</p>\n</div>"
     },
     "execution_count": 40,
     "metadata": {},
     "output_type": "execute_result"
    }
   ],
   "source": [
    "best_achievements_df"
   ],
   "metadata": {
    "collapsed": false,
    "pycharm": {
     "name": "#%%\n"
    }
   }
  },
  {
   "cell_type": "code",
   "execution_count": 41,
   "outputs": [],
   "source": [
    "grouped_by_games = best_achievements_df[[\"Game\",\"Points\"]].groupby([\"Game\"]).sum()\n",
    "grouped_by_games = grouped_by_games.sort_values(by=[\"Points\"], ascending=False)"
   ],
   "metadata": {
    "collapsed": false,
    "pycharm": {
     "name": "#%%\n"
    }
   }
  },
  {
   "cell_type": "markdown",
   "source": [
    "By looking at the new df `grouped_by_games` we can now say that there are 11107 entries in the `Game` column. The Game *PAYDAY 2* has the most points with over 50.000 followed by *Guns of Icarus Online* and *Rising Strom/ Red Orchestra 2 Online*. To put that in a better perspective, I calculated the relative numbers for that"
   ],
   "metadata": {
    "collapsed": false,
    "pycharm": {
     "name": "#%% md\n"
    }
   }
  },
  {
   "cell_type": "code",
   "execution_count": 42,
   "outputs": [],
   "source": [
    "grouped_by_games[\"Points relative\"] = (grouped_by_games[\"Points\"] / grouped_by_games[\"Points\"].sum())*100"
   ],
   "metadata": {
    "collapsed": false,
    "pycharm": {
     "name": "#%%\n"
    }
   }
  },
  {
   "cell_type": "code",
   "execution_count": 43,
   "outputs": [
    {
     "data": {
      "text/plain": "                                                      Points  Points relative\nGame                                                                         \nPAYDAY 2                                            50885.84         1.688388\nGuns of Icarus Online                               47418.96         1.573357\nRising Storm/Red Orchestra 2 Multiplayer            40663.16         1.349200\nLeft 4 Dead 2                                       34638.00         1.149286\nCompany of Heroes 2                                 28998.91         0.962181\n...                                                      ...              ...\n恋爱关系/Romance - 夏季花火                                     0.61         0.000020\nWe Were Here Forever                                    0.58         0.000019\nGunfire Reborn - Visitors of Spirit Realm               0.54         0.000018\nZombie Army 4: Ragnarök – Parts I & II                  0.31         0.000010\nTrain Sim World 2: Horseshoe Curve: Altoona - J...      0.15         0.000005\n\n[11107 rows x 2 columns]",
      "text/html": "<div>\n<style scoped>\n    .dataframe tbody tr th:only-of-type {\n        vertical-align: middle;\n    }\n\n    .dataframe tbody tr th {\n        vertical-align: top;\n    }\n\n    .dataframe thead th {\n        text-align: right;\n    }\n</style>\n<table border=\"1\" class=\"dataframe\">\n  <thead>\n    <tr style=\"text-align: right;\">\n      <th></th>\n      <th>Points</th>\n      <th>Points relative</th>\n    </tr>\n    <tr>\n      <th>Game</th>\n      <th></th>\n      <th></th>\n    </tr>\n  </thead>\n  <tbody>\n    <tr>\n      <th>PAYDAY 2</th>\n      <td>50885.84</td>\n      <td>1.688388</td>\n    </tr>\n    <tr>\n      <th>Guns of Icarus Online</th>\n      <td>47418.96</td>\n      <td>1.573357</td>\n    </tr>\n    <tr>\n      <th>Rising Storm/Red Orchestra 2 Multiplayer</th>\n      <td>40663.16</td>\n      <td>1.349200</td>\n    </tr>\n    <tr>\n      <th>Left 4 Dead 2</th>\n      <td>34638.00</td>\n      <td>1.149286</td>\n    </tr>\n    <tr>\n      <th>Company of Heroes 2</th>\n      <td>28998.91</td>\n      <td>0.962181</td>\n    </tr>\n    <tr>\n      <th>...</th>\n      <td>...</td>\n      <td>...</td>\n    </tr>\n    <tr>\n      <th>恋爱关系/Romance - 夏季花火</th>\n      <td>0.61</td>\n      <td>0.000020</td>\n    </tr>\n    <tr>\n      <th>We Were Here Forever</th>\n      <td>0.58</td>\n      <td>0.000019</td>\n    </tr>\n    <tr>\n      <th>Gunfire Reborn - Visitors of Spirit Realm</th>\n      <td>0.54</td>\n      <td>0.000018</td>\n    </tr>\n    <tr>\n      <th>Zombie Army 4: Ragnarök – Parts I &amp; II</th>\n      <td>0.31</td>\n      <td>0.000010</td>\n    </tr>\n    <tr>\n      <th>Train Sim World 2: Horseshoe Curve: Altoona - Johnstown &amp; South Fork Route Add-On</th>\n      <td>0.15</td>\n      <td>0.000005</td>\n    </tr>\n  </tbody>\n</table>\n<p>11107 rows × 2 columns</p>\n</div>"
     },
     "execution_count": 43,
     "metadata": {},
     "output_type": "execute_result"
    }
   ],
   "source": [
    "grouped_by_games"
   ],
   "metadata": {
    "collapsed": false,
    "pycharm": {
     "name": "#%%\n"
    }
   }
  },
  {
   "cell_type": "markdown",
   "source": [
    "As we now can see in the df above, the first 4 games all have over 1% of the Points rewarded. In total the top ten games rewarded a little over 10% over the points in total. Some further analysis based on that could be to assess how many achievements there are for each game, how hard is it to get the achievements, etc. Unfortunately there is no data (in the present datasets). We still can count how many (best) achievement each game has and if there are any interesting facts."
   ],
   "metadata": {
    "collapsed": false,
    "pycharm": {
     "name": "#%% md\n"
    }
   }
  },
  {
   "cell_type": "code",
   "execution_count": 44,
   "outputs": [
    {
     "data": {
      "text/plain": "                                              Achievement  \\\n615419                                     Agile Archery    \n121740                     Matched Play Commander Unlock    \n860379                                       Captivating    \n860380                                      Bloody Nomad    \n860378                              Hardcore Red spiders    \n...                                                   ...   \n1553413  Which is more beautiful, me or the boss's wife?    \n609418                                        The Rookie    \n1553414            Tasting the poetry of summer's breeze    \n1553415                      Prove it with action ......    \n191538          No One Expects the Hot Wheels Expedition    \n\n                                 Game  Points  \n615419                         SMITE     4.91  \n121740           Natural Selection 2     4.84  \n860379                       Warface     4.78  \n860380                       Warface     4.78  \n860378                       Warface     4.78  \n...                               ...     ...  \n1553413          恋爱关系/Romance - 夏季花火     0.04  \n609418   Forza Horizon 5: Hot Wheels     0.03  \n1553414          恋爱关系/Romance - 夏季花火     0.03  \n1553415          恋爱关系/Romance - 夏季花火     0.02  \n191538   Forza Horizon 5: Hot Wheels     0.02  \n\n[122121 rows x 3 columns]",
      "text/html": "<div>\n<style scoped>\n    .dataframe tbody tr th:only-of-type {\n        vertical-align: middle;\n    }\n\n    .dataframe tbody tr th {\n        vertical-align: top;\n    }\n\n    .dataframe thead th {\n        text-align: right;\n    }\n</style>\n<table border=\"1\" class=\"dataframe\">\n  <thead>\n    <tr style=\"text-align: right;\">\n      <th></th>\n      <th>Achievement</th>\n      <th>Game</th>\n      <th>Points</th>\n    </tr>\n  </thead>\n  <tbody>\n    <tr>\n      <th>615419</th>\n      <td>Agile Archery</td>\n      <td>SMITE</td>\n      <td>4.91</td>\n    </tr>\n    <tr>\n      <th>121740</th>\n      <td>Matched Play Commander Unlock</td>\n      <td>Natural Selection 2</td>\n      <td>4.84</td>\n    </tr>\n    <tr>\n      <th>860379</th>\n      <td>Captivating</td>\n      <td>Warface</td>\n      <td>4.78</td>\n    </tr>\n    <tr>\n      <th>860380</th>\n      <td>Bloody Nomad</td>\n      <td>Warface</td>\n      <td>4.78</td>\n    </tr>\n    <tr>\n      <th>860378</th>\n      <td>Hardcore Red spiders</td>\n      <td>Warface</td>\n      <td>4.78</td>\n    </tr>\n    <tr>\n      <th>...</th>\n      <td>...</td>\n      <td>...</td>\n      <td>...</td>\n    </tr>\n    <tr>\n      <th>1553413</th>\n      <td>Which is more beautiful, me or the boss's wife?</td>\n      <td>恋爱关系/Romance - 夏季花火</td>\n      <td>0.04</td>\n    </tr>\n    <tr>\n      <th>609418</th>\n      <td>The Rookie</td>\n      <td>Forza Horizon 5: Hot Wheels</td>\n      <td>0.03</td>\n    </tr>\n    <tr>\n      <th>1553414</th>\n      <td>Tasting the poetry of summer's breeze</td>\n      <td>恋爱关系/Romance - 夏季花火</td>\n      <td>0.03</td>\n    </tr>\n    <tr>\n      <th>1553415</th>\n      <td>Prove it with action ......</td>\n      <td>恋爱关系/Romance - 夏季花火</td>\n      <td>0.02</td>\n    </tr>\n    <tr>\n      <th>191538</th>\n      <td>No One Expects the Hot Wheels Expedition</td>\n      <td>Forza Horizon 5: Hot Wheels</td>\n      <td>0.02</td>\n    </tr>\n  </tbody>\n</table>\n<p>122121 rows × 3 columns</p>\n</div>"
     },
     "execution_count": 44,
     "metadata": {},
     "output_type": "execute_result"
    }
   ],
   "source": [
    "unique_best_achievements = best_achievements_df.drop_duplicates(subset=[\"Achievement\"])\n",
    "unique_best_achievements = unique_best_achievements.sort_values(by=\"Points\", ascending=False)\n",
    "unique_best_achievements"
   ],
   "metadata": {
    "collapsed": false,
    "pycharm": {
     "name": "#%%\n"
    }
   }
  },
  {
   "cell_type": "code",
   "execution_count": 45,
   "outputs": [],
   "source": [
    "grouped_by_games[\"Achievement count\"] = unique_best_achievements[\"Game\"].value_counts()"
   ],
   "metadata": {
    "collapsed": false,
    "pycharm": {
     "name": "#%%\n"
    }
   }
  },
  {
   "cell_type": "code",
   "execution_count": 46,
   "outputs": [],
   "source": [
    "grouped_by_games[\"Point mean per achievement\"] = unique_best_achievements[[\"Game\",\"Points\"]].groupby([\"Game\"]).mean()\n"
   ],
   "metadata": {
    "collapsed": false,
    "pycharm": {
     "name": "#%%\n"
    }
   }
  },
  {
   "cell_type": "code",
   "execution_count": 47,
   "outputs": [],
   "source": [
    "grouped_by_games = grouped_by_games\n",
    "to_plot = grouped_by_games.iloc[:10]"
   ],
   "metadata": {
    "collapsed": false,
    "pycharm": {
     "name": "#%%\n"
    }
   }
  },
  {
   "cell_type": "markdown",
   "source": [],
   "metadata": {
    "collapsed": false,
    "pycharm": {
     "name": "#%% md\n"
    }
   }
  },
  {
   "cell_type": "code",
   "execution_count": 48,
   "outputs": [
    {
     "data": {
      "text/plain": "<Figure size 432x288 with 1 Axes>",
      "image/png": "[encoded data removed]"
     },
     "metadata": {},
     "output_type": "display_data"
    }
   ],
   "source": [
    "graph = sns.barplot(data=to_plot, x = \"Achievement count\", y=to_plot.index)\n",
    "graph.axvline(grouped_by_games[\"Achievement count\"].mean())\n",
    "plt.show()"
   ],
   "metadata": {
    "collapsed": false,
    "pycharm": {
     "name": "#%%\n"
    }
   }
  },
  {
   "cell_type": "markdown",
   "source": [
    "Shown in the plot above, these are the game that rewarded the most points. The vertical line is the average of the `Achievement count` column. Hardly surprising is that every Game rewarded more than the average, but still vary quite a bit between each other. This is still not surprising, since each achievement rewards a different amount of points."
   ],
   "metadata": {
    "collapsed": false,
    "pycharm": {
     "name": "#%% md\n"
    }
   }
  },
  {
   "cell_type": "markdown",
   "source": [],
   "metadata": {
    "collapsed": false,
    "pycharm": {
     "name": "#%% md\n"
    }
   }
  },
  {
   "cell_type": "code",
   "execution_count": 49,
   "outputs": [
    {
     "data": {
      "text/plain": "1.9231240996612522"
     },
     "execution_count": 49,
     "metadata": {},
     "output_type": "execute_result"
    }
   ],
   "source": [
    "grouped_by_games[\"Point mean per achievement\"].mean()"
   ],
   "metadata": {
    "collapsed": false,
    "pycharm": {
     "name": "#%%\n"
    }
   }
  },
  {
   "cell_type": "markdown",
   "source": [
    "To sum this up, we can see in the df `grouped_by_games` there is no real indicator in the data on why the games rewarded the most points. The Point mean per achievement is similar to the average of these numbers (except for *Guns of Icarus Online*) and the `Achievement count` is over the average achievement count but varies alot. My best guess is that the games with the higher points are more *available*. By that I mean that these games have an affordable price, have periods where it can be played for free (or are free to play anyway) or similar factors. Since this cannot be back upped by the given data, it is only a hypothesis.\n",
    "\n",
    "However, the knowledge we could extract is, the top games from the best achievements (by points), how many achievements in total each game rewarded (for the top 200k players), what achievements give the highest points and how many points in average an achievement of a game rewards. We have to keep in mind though, that these are not all the achievements of a game, but only the best achievements rewarded for the top players."
   ],
   "metadata": {
    "collapsed": false,
    "pycharm": {
     "name": "#%% md\n"
    }
   }
  },
  {
   "cell_type": "markdown",
   "source": [
    "### EDA player achievements\n",
    "After we took a look at the best achievements from the players, we now take a look at the `achieve_df`. This dataset has way more data in total. The questions one can ask here can be: *Does the top players have more hours played?*, *Do the top players have older accounts?* or  *Does more achievements mean that the players have finished more games completely?*."
   ],
   "metadata": {
    "collapsed": false,
    "pycharm": {
     "name": "#%% md\n"
    }
   }
  },
  {
   "cell_type": "code",
   "execution_count": 50,
   "outputs": [
    {
     "data": {
      "text/plain": "          Rank          Player Id         Player Name  \\\n0            1       The Stranger        The Stranger   \n1            2              lylat               lylat   \n2            3             hannez              hannez   \n3            4          DDtective           DDtective   \n4            5             Skaery              Skaery   \n...        ...                ...                 ...   \n200005  200006  76561198085421589      Brandenburg800   \n200006  200007  76561198403437459            bounce01   \n200007  200008  76561198015047677               awake   \n200008  200009  76561198832353988  depressed fearless   \n200009  200010  76561198071456822               Qinba   \n\n                                        Best achievements     Points  \\\n0       [Blessing of the Flame (Your Chronicle – 2.82 ...  132759.30   \n1       [Death from Above (Rust – 3.77 points), Apex P...  119588.95   \n2       [Legendary Heckler (Nomad – 2.91 points), Lege...   96014.25   \n3       [Escaping Outlands (Unturned – 3.61 points), A...   89515.41   \n4       [World of Easy Goo (Kaiju-A-GoGo – 3.19 points...   88175.83   \n...                                                   ...        ...   \n200005  [1v1 Ranked (all I got was stomped and this lo...     467.61   \n200006  [Who Need A Mechanic? (Besiege – 1.92 points),...     467.61   \n200007  [I'm Flying! (Drake Hollow – 2.00 points), Jus...     467.61   \n200008  [Welcome to Arid (Unturned – 2.15 points), NEW...     467.60   \n200009  [Introspection (Toki Tori 2+ – 1.91 points), T...     467.60   \n\n        Achievement amount  Games  100%  Badges       XP Member since  \\\n0                   153732  16755  4493    4910  3087192   2011-04-15   \n1                   141645  18358  6034     195   296822   2009-06-03   \n2                    98255  13651  4008    2009   792032   2010-06-23   \n3                   101757  12070  3708     196    60662   2005-09-01   \n4                    95676  10338  2127     645   198956   2004-06-08   \n...                    ...    ...   ...     ...      ...          ...   \n200005                 642    112     1      12     1852   2013-03-03   \n200006                 857    102     2       7      783   2017-07-11   \n200007                 908    190     1     125    31466   2009-11-01   \n200008                 767     60     0       8     4946   2018-04-25   \n200009                 955   1008     2      23     7826   2012-09-12   \n\n          Hours          Last update  \n0       75591.8  05/26/2022 11:41:05  \n1       55960.7  05/26/2022 11:42:01  \n2       33020.0  05/26/2022 11:40:54  \n3        9352.9  07/22/2022 23:39:26  \n4       89602.9  05/26/2022 11:38:46  \n...         ...                  ...  \n200005   1544.3  06/05/2022 19:40:30  \n200006   2750.9  06/06/2022 20:56:55  \n200007      0.0  05/21/2022 23:19:50  \n200008   1512.8  04/24/2022 10:35:30  \n200009   3365.2  07/27/2022 08:07:47  \n\n[200010 rows x 13 columns]",
      "text/html": "<div>\n<style scoped>\n    .dataframe tbody tr th:only-of-type {\n        vertical-align: middle;\n    }\n\n    .dataframe tbody tr th {\n        vertical-align: top;\n    }\n\n    .dataframe thead th {\n        text-align: right;\n    }\n</style>\n<table border=\"1\" class=\"dataframe\">\n  <thead>\n    <tr style=\"text-align: right;\">\n      <th></th>\n      <th>Rank</th>\n      <th>Player Id</th>\n      <th>Player Name</th>\n      <th>Best achievements</th>\n      <th>Points</th>\n      <th>Achievement amount</th>\n      <th>Games</th>\n      <th>100%</th>\n      <th>Badges</th>\n      <th>XP</th>\n      <th>Member since</th>\n      <th>Hours</th>\n      <th>Last update</th>\n    </tr>\n  </thead>\n  <tbody>\n    <tr>\n      <th>0</th>\n      <td>1</td>\n      <td>The Stranger</td>\n      <td>The Stranger</td>\n      <td>[Blessing of the Flame (Your Chronicle – 2.82 ...</td>\n      <td>132759.30</td>\n      <td>153732</td>\n      <td>16755</td>\n      <td>4493</td>\n      <td>4910</td>\n      <td>3087192</td>\n      <td>2011-04-15</td>\n      <td>75591.8</td>\n      <td>05/26/2022 11:41:05</td>\n    </tr>\n    <tr>\n      <th>1</th>\n      <td>2</td>\n      <td>lylat</td>\n      <td>lylat</td>\n      <td>[Death from Above (Rust – 3.77 points), Apex P...</td>\n      <td>119588.95</td>\n      <td>141645</td>\n      <td>18358</td>\n      <td>6034</td>\n      <td>195</td>\n      <td>296822</td>\n      <td>2009-06-03</td>\n      <td>55960.7</td>\n      <td>05/26/2022 11:42:01</td>\n    </tr>\n    <tr>\n      <th>2</th>\n      <td>3</td>\n      <td>hannez</td>\n      <td>hannez</td>\n      <td>[Legendary Heckler (Nomad – 2.91 points), Lege...</td>\n      <td>96014.25</td>\n      <td>98255</td>\n      <td>13651</td>\n      <td>4008</td>\n      <td>2009</td>\n      <td>792032</td>\n      <td>2010-06-23</td>\n      <td>33020.0</td>\n      <td>05/26/2022 11:40:54</td>\n    </tr>\n    <tr>\n      <th>3</th>\n      <td>4</td>\n      <td>DDtective</td>\n      <td>DDtective</td>\n      <td>[Escaping Outlands (Unturned – 3.61 points), A...</td>\n      <td>89515.41</td>\n      <td>101757</td>\n      <td>12070</td>\n      <td>3708</td>\n      <td>196</td>\n      <td>60662</td>\n      <td>2005-09-01</td>\n      <td>9352.9</td>\n      <td>07/22/2022 23:39:26</td>\n    </tr>\n    <tr>\n      <th>4</th>\n      <td>5</td>\n      <td>Skaery</td>\n      <td>Skaery</td>\n      <td>[World of Easy Goo (Kaiju-A-GoGo – 3.19 points...</td>\n      <td>88175.83</td>\n      <td>95676</td>\n      <td>10338</td>\n      <td>2127</td>\n      <td>645</td>\n      <td>198956</td>\n      <td>2004-06-08</td>\n      <td>89602.9</td>\n      <td>05/26/2022 11:38:46</td>\n    </tr>\n    <tr>\n      <th>...</th>\n      <td>...</td>\n      <td>...</td>\n      <td>...</td>\n      <td>...</td>\n      <td>...</td>\n      <td>...</td>\n      <td>...</td>\n      <td>...</td>\n      <td>...</td>\n      <td>...</td>\n      <td>...</td>\n      <td>...</td>\n      <td>...</td>\n    </tr>\n    <tr>\n      <th>200005</th>\n      <td>200006</td>\n      <td>76561198085421589</td>\n      <td>Brandenburg800</td>\n      <td>[1v1 Ranked (all I got was stomped and this lo...</td>\n      <td>467.61</td>\n      <td>642</td>\n      <td>112</td>\n      <td>1</td>\n      <td>12</td>\n      <td>1852</td>\n      <td>2013-03-03</td>\n      <td>1544.3</td>\n      <td>06/05/2022 19:40:30</td>\n    </tr>\n    <tr>\n      <th>200006</th>\n      <td>200007</td>\n      <td>76561198403437459</td>\n      <td>bounce01</td>\n      <td>[Who Need A Mechanic? (Besiege – 1.92 points),...</td>\n      <td>467.61</td>\n      <td>857</td>\n      <td>102</td>\n      <td>2</td>\n      <td>7</td>\n      <td>783</td>\n      <td>2017-07-11</td>\n      <td>2750.9</td>\n      <td>06/06/2022 20:56:55</td>\n    </tr>\n    <tr>\n      <th>200007</th>\n      <td>200008</td>\n      <td>76561198015047677</td>\n      <td>awake</td>\n      <td>[I'm Flying! (Drake Hollow – 2.00 points), Jus...</td>\n      <td>467.61</td>\n      <td>908</td>\n      <td>190</td>\n      <td>1</td>\n      <td>125</td>\n      <td>31466</td>\n      <td>2009-11-01</td>\n      <td>0.0</td>\n      <td>05/21/2022 23:19:50</td>\n    </tr>\n    <tr>\n      <th>200008</th>\n      <td>200009</td>\n      <td>76561198832353988</td>\n      <td>depressed fearless</td>\n      <td>[Welcome to Arid (Unturned – 2.15 points), NEW...</td>\n      <td>467.60</td>\n      <td>767</td>\n      <td>60</td>\n      <td>0</td>\n      <td>8</td>\n      <td>4946</td>\n      <td>2018-04-25</td>\n      <td>1512.8</td>\n      <td>04/24/2022 10:35:30</td>\n    </tr>\n    <tr>\n      <th>200009</th>\n      <td>200010</td>\n      <td>76561198071456822</td>\n      <td>Qinba</td>\n      <td>[Introspection (Toki Tori 2+ – 1.91 points), T...</td>\n      <td>467.60</td>\n      <td>955</td>\n      <td>1008</td>\n      <td>2</td>\n      <td>23</td>\n      <td>7826</td>\n      <td>2012-09-12</td>\n      <td>3365.2</td>\n      <td>07/27/2022 08:07:47</td>\n    </tr>\n  </tbody>\n</table>\n<p>200010 rows × 13 columns</p>\n</div>"
     },
     "execution_count": 50,
     "metadata": {},
     "output_type": "execute_result"
    }
   ],
   "source": [
    "achieve_df"
   ],
   "metadata": {
    "collapsed": false,
    "pycharm": {
     "name": "#%%\n"
    }
   }
  },
  {
   "cell_type": "markdown",
   "source": [
    "First, we drop the columns `Player Name`, `Best achievements` and `Last update`."
   ],
   "metadata": {
    "collapsed": false,
    "pycharm": {
     "name": "#%% md\n"
    }
   }
  },
  {
   "cell_type": "code",
   "execution_count": 51,
   "outputs": [],
   "source": [
    "achieve_df_eda = achieve_df[[\"Rank\", \"Player Id\", \"Points\", \"Achievement amount\", \"Games\", \"100%\", \"Badges\", \"XP\", \"Member since\", \"Hours\"]]"
   ],
   "metadata": {
    "collapsed": false,
    "pycharm": {
     "name": "#%%\n"
    }
   }
  },
  {
   "cell_type": "code",
   "execution_count": 59,
   "outputs": [
    {
     "data": {
      "text/plain": "          Rank          Player Id     Points  Achievement amount  Games  100%  \\\n0            1       The Stranger  132759.30              153732  16755  4493   \n1            2              lylat  119588.95              141645  18358  6034   \n2            3             hannez   96014.25               98255  13651  4008   \n3            4          DDtective   89515.41              101757  12070  3708   \n4            5             Skaery   88175.83               95676  10338  2127   \n...        ...                ...        ...                 ...    ...   ...   \n200005  200006  76561198085421589     467.61                 642    112     1   \n200006  200007  76561198403437459     467.61                 857    102     2   \n200007  200008  76561198015047677     467.61                 908    190     1   \n200008  200009  76561198832353988     467.60                 767     60     0   \n200009  200010  76561198071456822     467.60                 955   1008     2   \n\n        Badges       XP Member since    Hours  Year  \n0         4910  3087192   2011-04-15  75591.8  2011  \n1          195   296822   2009-06-03  55960.7  2009  \n2         2009   792032   2010-06-23  33020.0  2010  \n3          196    60662   2005-09-01   9352.9  2005  \n4          645   198956   2004-06-08  89602.9  2004  \n...        ...      ...          ...      ...   ...  \n200005      12     1852   2013-03-03   1544.3  2013  \n200006       7      783   2017-07-11   2750.9  2017  \n200007     125    31466   2009-11-01      0.0  2009  \n200008       8     4946   2018-04-25   1512.8  2018  \n200009      23     7826   2012-09-12   3365.2  2012  \n\n[192288 rows x 11 columns]",
      "text/html": "<div>\n<style scoped>\n    .dataframe tbody tr th:only-of-type {\n        vertical-align: middle;\n    }\n\n    .dataframe tbody tr th {\n        vertical-align: top;\n    }\n\n    .dataframe thead th {\n        text-align: right;\n    }\n</style>\n<table border=\"1\" class=\"dataframe\">\n  <thead>\n    <tr style=\"text-align: right;\">\n      <th></th>\n      <th>Rank</th>\n      <th>Player Id</th>\n      <th>Points</th>\n      <th>Achievement amount</th>\n      <th>Games</th>\n      <th>100%</th>\n      <th>Badges</th>\n      <th>XP</th>\n      <th>Member since</th>\n      <th>Hours</th>\n      <th>Year</th>\n    </tr>\n  </thead>\n  <tbody>\n    <tr>\n      <th>0</th>\n      <td>1</td>\n      <td>The Stranger</td>\n      <td>132759.30</td>\n      <td>153732</td>\n      <td>16755</td>\n      <td>4493</td>\n      <td>4910</td>\n      <td>3087192</td>\n      <td>2011-04-15</td>\n      <td>75591.8</td>\n      <td>2011</td>\n    </tr>\n    <tr>\n      <th>1</th>\n      <td>2</td>\n      <td>lylat</td>\n      <td>119588.95</td>\n      <td>141645</td>\n      <td>18358</td>\n      <td>6034</td>\n      <td>195</td>\n      <td>296822</td>\n      <td>2009-06-03</td>\n      <td>55960.7</td>\n      <td>2009</td>\n    </tr>\n    <tr>\n      <th>2</th>\n      <td>3</td>\n      <td>hannez</td>\n      <td>96014.25</td>\n      <td>98255</td>\n      <td>13651</td>\n      <td>4008</td>\n      <td>2009</td>\n      <td>792032</td>\n      <td>2010-06-23</td>\n      <td>33020.0</td>\n      <td>2010</td>\n    </tr>\n    <tr>\n      <th>3</th>\n      <td>4</td>\n      <td>DDtective</td>\n      <td>89515.41</td>\n      <td>101757</td>\n      <td>12070</td>\n      <td>3708</td>\n      <td>196</td>\n      <td>60662</td>\n      <td>2005-09-01</td>\n      <td>9352.9</td>\n      <td>2005</td>\n    </tr>\n    <tr>\n      <th>4</th>\n      <td>5</td>\n      <td>Skaery</td>\n      <td>88175.83</td>\n      <td>95676</td>\n      <td>10338</td>\n      <td>2127</td>\n      <td>645</td>\n      <td>198956</td>\n      <td>2004-06-08</td>\n      <td>89602.9</td>\n      <td>2004</td>\n    </tr>\n    <tr>\n      <th>...</th>\n      <td>...</td>\n      <td>...</td>\n      <td>...</td>\n      <td>...</td>\n      <td>...</td>\n      <td>...</td>\n      <td>...</td>\n      <td>...</td>\n      <td>...</td>\n      <td>...</td>\n      <td>...</td>\n    </tr>\n    <tr>\n      <th>200005</th>\n      <td>200006</td>\n      <td>76561198085421589</td>\n      <td>467.61</td>\n      <td>642</td>\n      <td>112</td>\n      <td>1</td>\n      <td>12</td>\n      <td>1852</td>\n      <td>2013-03-03</td>\n      <td>1544.3</td>\n      <td>2013</td>\n    </tr>\n    <tr>\n      <th>200006</th>\n      <td>200007</td>\n      <td>76561198403437459</td>\n      <td>467.61</td>\n      <td>857</td>\n      <td>102</td>\n      <td>2</td>\n      <td>7</td>\n      <td>783</td>\n      <td>2017-07-11</td>\n      <td>2750.9</td>\n      <td>2017</td>\n    </tr>\n    <tr>\n      <th>200007</th>\n      <td>200008</td>\n      <td>76561198015047677</td>\n      <td>467.61</td>\n      <td>908</td>\n      <td>190</td>\n      <td>1</td>\n      <td>125</td>\n      <td>31466</td>\n      <td>2009-11-01</td>\n      <td>0.0</td>\n      <td>2009</td>\n    </tr>\n    <tr>\n      <th>200008</th>\n      <td>200009</td>\n      <td>76561198832353988</td>\n      <td>467.60</td>\n      <td>767</td>\n      <td>60</td>\n      <td>0</td>\n      <td>8</td>\n      <td>4946</td>\n      <td>2018-04-25</td>\n      <td>1512.8</td>\n      <td>2018</td>\n    </tr>\n    <tr>\n      <th>200009</th>\n      <td>200010</td>\n      <td>76561198071456822</td>\n      <td>467.60</td>\n      <td>955</td>\n      <td>1008</td>\n      <td>2</td>\n      <td>23</td>\n      <td>7826</td>\n      <td>2012-09-12</td>\n      <td>3365.2</td>\n      <td>2012</td>\n    </tr>\n  </tbody>\n</table>\n<p>192288 rows × 11 columns</p>\n</div>"
     },
     "execution_count": 59,
     "metadata": {},
     "output_type": "execute_result"
    }
   ],
   "source": [
    "achieve_df_eda"
   ],
   "metadata": {
    "collapsed": false,
    "pycharm": {
     "name": "#%%\n"
    }
   }
  },
  {
   "cell_type": "markdown",
   "source": [
    "Let us first try to get an insight about the Question, if the top players have higher amounts of hours played. This seems to be logical so far, because to gain achievements you have to play games, and thus you have to spend more hours."
   ],
   "metadata": {
    "collapsed": false,
    "pycharm": {
     "name": "#%% md\n"
    }
   }
  },
  {
   "cell_type": "code",
   "execution_count": 60,
   "outputs": [
    {
     "data": {
      "text/plain": "41053.20333333334"
     },
     "execution_count": 60,
     "metadata": {},
     "output_type": "execute_result"
    }
   ],
   "source": [
    "achieve_df_eda[\"Hours\"].iloc[:30].mean()"
   ],
   "metadata": {
    "collapsed": false,
    "pycharm": {
     "name": "#%%\n"
    }
   }
  },
  {
   "cell_type": "code",
   "execution_count": 53,
   "outputs": [
    {
     "data": {
      "text/plain": "5562.078872056429"
     },
     "execution_count": 53,
     "metadata": {},
     "output_type": "execute_result"
    }
   ],
   "source": [
    "achieve_df_eda[\"Hours\"].mean()"
   ],
   "metadata": {
    "collapsed": false,
    "pycharm": {
     "name": "#%%\n"
    }
   }
  },
  {
   "cell_type": "markdown",
   "source": [
    "Based on the average hours overall and the average hours from the top 100 players we can see that the top 100 players have nearly 8 times the playtime than the average. By this it is safe to say, that the more hours the player has spent on playing, the more points he probably has over some other player with less time spent."
   ],
   "metadata": {
    "collapsed": false,
    "pycharm": {
     "name": "#%% md\n"
    }
   }
  },
  {
   "cell_type": "markdown",
   "source": [
    "The next question that came up to my mind is, if the top 100 players have older accounts. This can be a logical guess as well, because a higher amount of hours could mean you played games before other players started to playing. The only Problem is, that we got the private profile entries. I decided to just drop them for this part of the analysis. Additionally, the average time played per year is"
   ],
   "metadata": {
    "collapsed": false,
    "pycharm": {
     "name": "#%% md\n"
    }
   }
  },
  {
   "cell_type": "code",
   "execution_count": 54,
   "outputs": [],
   "source": [
    "achieve_df_eda = achieve_df_eda[achieve_df_eda[\"Member since\"]!=\"['Private profile']\"]\n"
   ],
   "metadata": {
    "collapsed": false,
    "pycharm": {
     "name": "#%%\n"
    }
   }
  },
  {
   "cell_type": "code",
   "execution_count": 55,
   "outputs": [
    {
     "data": {
      "text/plain": "2011.140877225828"
     },
     "execution_count": 55,
     "metadata": {},
     "output_type": "execute_result"
    }
   ],
   "source": [
    "achieve_df_eda[\"Year\"] =  pd.DatetimeIndex(achieve_df_eda[\"Member since\"]).year\n",
    "achieve_df_eda[\"Year\"].mean()"
   ],
   "metadata": {
    "collapsed": false,
    "pycharm": {
     "name": "#%%\n"
    }
   }
  },
  {
   "cell_type": "code",
   "execution_count": 56,
   "outputs": [],
   "source": [
    "top_30_df = achieve_df_eda.iloc[:29]"
   ],
   "metadata": {
    "collapsed": false,
    "pycharm": {
     "name": "#%%\n"
    }
   }
  },
  {
   "cell_type": "code",
   "execution_count": 57,
   "outputs": [
    {
     "data": {
      "text/plain": "2009.3103448275863"
     },
     "execution_count": 57,
     "metadata": {},
     "output_type": "execute_result"
    }
   ],
   "source": [
    "top_30_df[\"Year\"].mean()"
   ],
   "metadata": {
    "collapsed": false,
    "pycharm": {
     "name": "#%%\n"
    }
   }
  },
  {
   "cell_type": "markdown",
   "source": [
    "Based on that, we can say that the hypothesis can be seen as true since the accounts of the top 30 players are, in average, 2 years older than the overall accounts from the top 200k players.\n",
    "\n",
    "Next Question that came up is if the higher the rank is the more games are completed to 100%. This might be interesting in regard to the strategy of the players farming XP/Badges. Since"
   ],
   "metadata": {
    "collapsed": false,
    "pycharm": {
     "name": "#%% md\n"
    }
   }
  }
 ],
 "metadata": {
  "kernelspec": {
   "display_name": "Python 3",
   "language": "python",
   "name": "python3"
  },
  "language_info": {
   "codemirror_mode": {
    "name": "ipython",
    "version": 2
   },
   "file_extension": ".py",
   "mimetype": "text/x-python",
   "name": "python",
   "nbconvert_exporter": "python",
   "pygments_lexer": "ipython2",
   "version": "2.7.6"
  }
 },
 "nbformat": 4,
 "nbformat_minor": 0
}